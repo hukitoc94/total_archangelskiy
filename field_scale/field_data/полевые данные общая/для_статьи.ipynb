{
 "cells": [
  {
   "cell_type": "code",
   "execution_count": 1,
   "metadata": {},
   "outputs": [],
   "source": [
    "import re\n",
    "import warnings\n",
    "warnings.filterwarnings(\"ignore\")\n",
    "\n",
    "\n",
    "import pandas as pd \n",
    "import numpy as np \n",
    "import matplotlib.pyplot as plt \n",
    "import matplotlib.patches as mpatches\n",
    "import matplotlib.transforms as transforms\n",
    "\n",
    "import seaborn as sns\n",
    "\n",
    "from scipy.ndimage.filters import gaussian_filter1d\n",
    "import statsmodels.api as sm\n",
    "from statsmodels.multivariate.manova import MANOVA #мультфакторная анова\n",
    "from statsmodels.formula.api import ols #линейные модели \n",
    "\n",
    "from scipy.stats import f_oneway as ANOVA\n",
    "\n",
    "import scipy"
   ]
  },
  {
   "cell_type": "markdown",
   "metadata": {},
   "source": [
    "# АГРОХИМИЯ"
   ]
  },
  {
   "cell_type": "code",
   "execution_count": 2,
   "metadata": {},
   "outputs": [],
   "source": [
    "def aov_for_nominal(df, agrochem_property):\n",
    "    \"\"\"\n",
    "    input - dataframe by agrochemical_proprerty\n",
    "    output - resul of MANOVA\n",
    "    \"\"\"\n",
    "    dispers = df.copy()\n",
    "    agrochem_property_ = re.sub(r'[\\(),.%№ /-]', '' , agrochem_property)\n",
    "    dispers.columns = dispers.columns.str.replace(r'[\\(),.%№ /-]', '' )\n",
    "    reg = ols('{} ~ Типобработки  *  Рельеф'.format(agrochem_property_) ,  data=dispers).fit()\n",
    "    aov = sm.stats.anova_lm(reg)\n",
    "    aov = aov[[\"PR(>F)\"]]\n",
    "    aov.columns = ['p-value']\n",
    "    aov = aov.iloc[:4,:]\n",
    "    aov['p-value'] = round(aov['p-value'] , 3)\n",
    "    return aov"
   ]
  },
  {
   "cell_type": "code",
   "execution_count": 3,
   "metadata": {},
   "outputs": [],
   "source": [
    "agrochemistry_total = pd.read_csv('ready_data/агрохимия_для_статьи.csv')\n",
    "agrochemistry_total['GPS №'] = agrochemistry_total['GPS №'].astype(int)\n",
    "\n",
    "agrochemistry_total = agrochemistry_total[agrochemistry_total['GPS №'].isin([585, 528, 584, 527])]\n",
    "\n",
    "agrochemistry_total['Рельеф'] = 'рельеф'\n",
    "\n",
    "agrochemistry_total['Рельеф'][agrochemistry_total['GPS №'].isin([585, 528])] = 'Плакор'\n",
    "agrochemistry_total['Рельеф'][agrochemistry_total['GPS №'].isin([584, 527])] = 'Тальвег'\n",
    "\n",
    "agrochemistry_total = agrochemistry_total[agrochemistry_total['Глубина'].isin([\"0-10\", \"10-20\"])]\n",
    "\n",
    "agrochemistry_total['Гумус, %'] = agrochemistry_total['Органический углерод, %'] * 1.724\n",
    "\n",
    "agrochem_columns = ['Год', \n",
    "                    'GPS №',\n",
    "                    'Тип обработки',\n",
    "                    \"Рельеф\", \n",
    "                    \"рН солевой вытяжки, ед. рН\",\n",
    "                    \"рН водной вытяжки, ед. рН\",\n",
    "                    'Фосфор (подвижная форма), мг/кг',\n",
    "                    'Калий (подвижная форма), млн-1',\n",
    "                    'Общий азот, %',\n",
    "                    'Гумус, %']\n",
    "\n",
    "агрохимия_для_статьи = agrochemistry_total[agrochem_columns]"
   ]
  },
  {
   "cell_type": "code",
   "execution_count": 4,
   "metadata": {},
   "outputs": [
    {
     "data": {
      "text/html": [
       "<div>\n",
       "<style scoped>\n",
       "    .dataframe tbody tr th:only-of-type {\n",
       "        vertical-align: middle;\n",
       "    }\n",
       "\n",
       "    .dataframe tbody tr th {\n",
       "        vertical-align: top;\n",
       "    }\n",
       "\n",
       "    .dataframe thead th {\n",
       "        text-align: right;\n",
       "    }\n",
       "</style>\n",
       "<table border=\"1\" class=\"dataframe\">\n",
       "  <thead>\n",
       "    <tr style=\"text-align: right;\">\n",
       "      <th></th>\n",
       "      <th></th>\n",
       "      <th>Год</th>\n",
       "      <th>GPS №</th>\n",
       "      <th>рН солевой вытяжки, ед. рН</th>\n",
       "      <th>рН водной вытяжки, ед. рН</th>\n",
       "      <th>Фосфор (подвижная форма), мг/кг</th>\n",
       "      <th>Калий (подвижная форма), млн-1</th>\n",
       "      <th>Общий азот, %</th>\n",
       "      <th>Гумус, %</th>\n",
       "    </tr>\n",
       "    <tr>\n",
       "      <th>Рельеф</th>\n",
       "      <th>Тип обработки</th>\n",
       "      <th></th>\n",
       "      <th></th>\n",
       "      <th></th>\n",
       "      <th></th>\n",
       "      <th></th>\n",
       "      <th></th>\n",
       "      <th></th>\n",
       "      <th></th>\n",
       "    </tr>\n",
       "  </thead>\n",
       "  <tbody>\n",
       "    <tr>\n",
       "      <th rowspan=\"2\" valign=\"top\">Плакор</th>\n",
       "      <th>ПП</th>\n",
       "      <td>10</td>\n",
       "      <td>10</td>\n",
       "      <td>10</td>\n",
       "      <td>10</td>\n",
       "      <td>10</td>\n",
       "      <td>10</td>\n",
       "      <td>10</td>\n",
       "      <td>10</td>\n",
       "    </tr>\n",
       "    <tr>\n",
       "      <th>ТТ</th>\n",
       "      <td>10</td>\n",
       "      <td>10</td>\n",
       "      <td>9</td>\n",
       "      <td>7</td>\n",
       "      <td>10</td>\n",
       "      <td>10</td>\n",
       "      <td>10</td>\n",
       "      <td>10</td>\n",
       "    </tr>\n",
       "    <tr>\n",
       "      <th rowspan=\"2\" valign=\"top\">Тальвег</th>\n",
       "      <th>ПП</th>\n",
       "      <td>10</td>\n",
       "      <td>10</td>\n",
       "      <td>10</td>\n",
       "      <td>10</td>\n",
       "      <td>10</td>\n",
       "      <td>10</td>\n",
       "      <td>10</td>\n",
       "      <td>10</td>\n",
       "    </tr>\n",
       "    <tr>\n",
       "      <th>ТТ</th>\n",
       "      <td>10</td>\n",
       "      <td>10</td>\n",
       "      <td>10</td>\n",
       "      <td>10</td>\n",
       "      <td>10</td>\n",
       "      <td>10</td>\n",
       "      <td>10</td>\n",
       "      <td>10</td>\n",
       "    </tr>\n",
       "  </tbody>\n",
       "</table>\n",
       "</div>"
      ],
      "text/plain": [
       "                       Год  GPS №  рН солевой вытяжки, ед. рН  \\\n",
       "Рельеф  Тип обработки                                           \n",
       "Плакор  ПП              10     10                          10   \n",
       "        ТТ              10     10                           9   \n",
       "Тальвег ПП              10     10                          10   \n",
       "        ТТ              10     10                          10   \n",
       "\n",
       "                       рН водной вытяжки, ед. рН  \\\n",
       "Рельеф  Тип обработки                              \n",
       "Плакор  ПП                                    10   \n",
       "        ТТ                                     7   \n",
       "Тальвег ПП                                    10   \n",
       "        ТТ                                    10   \n",
       "\n",
       "                       Фосфор (подвижная форма), мг/кг  \\\n",
       "Рельеф  Тип обработки                                    \n",
       "Плакор  ПП                                          10   \n",
       "        ТТ                                          10   \n",
       "Тальвег ПП                                          10   \n",
       "        ТТ                                          10   \n",
       "\n",
       "                       Калий (подвижная форма), млн-1  Общий азот, %  Гумус, %  \n",
       "Рельеф  Тип обработки                                                           \n",
       "Плакор  ПП                                         10             10        10  \n",
       "        ТТ                                         10             10        10  \n",
       "Тальвег ПП                                         10             10        10  \n",
       "        ТТ                                         10             10        10  "
      ]
     },
     "execution_count": 4,
     "metadata": {},
     "output_type": "execute_result"
    }
   ],
   "source": [
    "агрохимия_для_статьи.groupby(['Рельеф','Тип обработки']).count()"
   ]
  },
  {
   "cell_type": "code",
   "execution_count": 5,
   "metadata": {},
   "outputs": [
    {
     "data": {
      "text/html": [
       "<div>\n",
       "<style scoped>\n",
       "    .dataframe tbody tr th:only-of-type {\n",
       "        vertical-align: middle;\n",
       "    }\n",
       "\n",
       "    .dataframe tbody tr th {\n",
       "        vertical-align: top;\n",
       "    }\n",
       "\n",
       "    .dataframe thead tr th {\n",
       "        text-align: left;\n",
       "    }\n",
       "</style>\n",
       "<table border=\"1\" class=\"dataframe\">\n",
       "  <thead>\n",
       "    <tr>\n",
       "      <th>Рельеф</th>\n",
       "      <th colspan=\"2\" halign=\"left\">Плакор</th>\n",
       "      <th colspan=\"2\" halign=\"left\">Тальвег</th>\n",
       "    </tr>\n",
       "    <tr>\n",
       "      <th>Тип обработки</th>\n",
       "      <th>ПП</th>\n",
       "      <th>ТТ</th>\n",
       "      <th>ПП</th>\n",
       "      <th>ТТ</th>\n",
       "    </tr>\n",
       "  </thead>\n",
       "  <tbody>\n",
       "    <tr>\n",
       "      <th>Год</th>\n",
       "      <td>2020.000000</td>\n",
       "      <td>2021.000000</td>\n",
       "      <td>2020.000000</td>\n",
       "      <td>2021.000000</td>\n",
       "    </tr>\n",
       "    <tr>\n",
       "      <th>GPS №</th>\n",
       "      <td>528.000000</td>\n",
       "      <td>585.000000</td>\n",
       "      <td>527.000000</td>\n",
       "      <td>584.000000</td>\n",
       "    </tr>\n",
       "    <tr>\n",
       "      <th>рН солевой вытяжки, ед. рН</th>\n",
       "      <td>7.243000</td>\n",
       "      <td>7.132222</td>\n",
       "      <td>7.248000</td>\n",
       "      <td>7.199000</td>\n",
       "    </tr>\n",
       "    <tr>\n",
       "      <th>рН водной вытяжки, ед. рН</th>\n",
       "      <td>8.317000</td>\n",
       "      <td>8.041429</td>\n",
       "      <td>8.251000</td>\n",
       "      <td>8.589000</td>\n",
       "    </tr>\n",
       "    <tr>\n",
       "      <th>Фосфор (подвижная форма), мг/кг</th>\n",
       "      <td>11.691297</td>\n",
       "      <td>17.600000</td>\n",
       "      <td>12.430213</td>\n",
       "      <td>17.500000</td>\n",
       "    </tr>\n",
       "    <tr>\n",
       "      <th>Калий (подвижная форма), млн-1</th>\n",
       "      <td>359.023168</td>\n",
       "      <td>346.160595</td>\n",
       "      <td>340.722368</td>\n",
       "      <td>299.809966</td>\n",
       "    </tr>\n",
       "    <tr>\n",
       "      <th>Общий азот, %</th>\n",
       "      <td>0.166000</td>\n",
       "      <td>0.151000</td>\n",
       "      <td>0.181000</td>\n",
       "      <td>0.116000</td>\n",
       "    </tr>\n",
       "    <tr>\n",
       "      <th>Гумус, %</th>\n",
       "      <td>1.965825</td>\n",
       "      <td>1.955775</td>\n",
       "      <td>2.450459</td>\n",
       "      <td>1.868333</td>\n",
       "    </tr>\n",
       "  </tbody>\n",
       "</table>\n",
       "</div>"
      ],
      "text/plain": [
       "Рельеф                                Плакор                   Тальвег  \\\n",
       "Тип обработки                             ПП           ТТ           ПП   \n",
       "Год                              2020.000000  2021.000000  2020.000000   \n",
       "GPS №                             528.000000   585.000000   527.000000   \n",
       "рН солевой вытяжки, ед. рН          7.243000     7.132222     7.248000   \n",
       "рН водной вытяжки, ед. рН           8.317000     8.041429     8.251000   \n",
       "Фосфор (подвижная форма), мг/кг    11.691297    17.600000    12.430213   \n",
       "Калий (подвижная форма), млн-1    359.023168   346.160595   340.722368   \n",
       "Общий азот, %                       0.166000     0.151000     0.181000   \n",
       "Гумус, %                            1.965825     1.955775     2.450459   \n",
       "\n",
       "Рельеф                                        \n",
       "Тип обработки                             ТТ  \n",
       "Год                              2021.000000  \n",
       "GPS №                             584.000000  \n",
       "рН солевой вытяжки, ед. рН          7.199000  \n",
       "рН водной вытяжки, ед. рН           8.589000  \n",
       "Фосфор (подвижная форма), мг/кг    17.500000  \n",
       "Калий (подвижная форма), млн-1    299.809966  \n",
       "Общий азот, %                       0.116000  \n",
       "Гумус, %                            1.868333  "
      ]
     },
     "execution_count": 5,
     "metadata": {},
     "output_type": "execute_result"
    }
   ],
   "source": [
    "агрохимия_для_статьи.groupby(['Рельеф','Тип обработки']).mean().T"
   ]
  },
  {
   "cell_type": "code",
   "execution_count": 6,
   "metadata": {},
   "outputs": [
    {
     "data": {
      "text/html": [
       "<div>\n",
       "<style scoped>\n",
       "    .dataframe tbody tr th:only-of-type {\n",
       "        vertical-align: middle;\n",
       "    }\n",
       "\n",
       "    .dataframe tbody tr th {\n",
       "        vertical-align: top;\n",
       "    }\n",
       "\n",
       "    .dataframe thead th {\n",
       "        text-align: right;\n",
       "    }\n",
       "</style>\n",
       "<table border=\"1\" class=\"dataframe\">\n",
       "  <thead>\n",
       "    <tr style=\"text-align: right;\">\n",
       "      <th></th>\n",
       "      <th></th>\n",
       "      <th>Год</th>\n",
       "      <th>GPS №</th>\n",
       "      <th>рН солевой вытяжки, ед. рН</th>\n",
       "      <th>рН водной вытяжки, ед. рН</th>\n",
       "      <th>Фосфор (подвижная форма), мг/кг</th>\n",
       "      <th>Калий (подвижная форма), млн-1</th>\n",
       "      <th>Общий азот, %</th>\n",
       "      <th>Гумус, %</th>\n",
       "    </tr>\n",
       "    <tr>\n",
       "      <th>Рельеф</th>\n",
       "      <th>Тип обработки</th>\n",
       "      <th></th>\n",
       "      <th></th>\n",
       "      <th></th>\n",
       "      <th></th>\n",
       "      <th></th>\n",
       "      <th></th>\n",
       "      <th></th>\n",
       "      <th></th>\n",
       "    </tr>\n",
       "  </thead>\n",
       "  <tbody>\n",
       "    <tr>\n",
       "      <th rowspan=\"2\" valign=\"top\">Плакор</th>\n",
       "      <th>ПП</th>\n",
       "      <td>0.0</td>\n",
       "      <td>0.0</td>\n",
       "      <td>0.086416</td>\n",
       "      <td>0.134664</td>\n",
       "      <td>2.950643</td>\n",
       "      <td>60.458793</td>\n",
       "      <td>0.006992</td>\n",
       "      <td>0.247262</td>\n",
       "    </tr>\n",
       "    <tr>\n",
       "      <th>ТТ</th>\n",
       "      <td>0.0</td>\n",
       "      <td>0.0</td>\n",
       "      <td>0.131413</td>\n",
       "      <td>0.125224</td>\n",
       "      <td>5.979967</td>\n",
       "      <td>59.495386</td>\n",
       "      <td>0.008756</td>\n",
       "      <td>0.162102</td>\n",
       "    </tr>\n",
       "    <tr>\n",
       "      <th rowspan=\"2\" valign=\"top\">Тальвег</th>\n",
       "      <th>ПП</th>\n",
       "      <td>0.0</td>\n",
       "      <td>0.0</td>\n",
       "      <td>0.093903</td>\n",
       "      <td>0.077237</td>\n",
       "      <td>3.921683</td>\n",
       "      <td>55.627444</td>\n",
       "      <td>0.043063</td>\n",
       "      <td>1.095135</td>\n",
       "    </tr>\n",
       "    <tr>\n",
       "      <th>ТТ</th>\n",
       "      <td>0.0</td>\n",
       "      <td>0.0</td>\n",
       "      <td>0.269132</td>\n",
       "      <td>0.217279</td>\n",
       "      <td>6.145821</td>\n",
       "      <td>77.797000</td>\n",
       "      <td>0.023664</td>\n",
       "      <td>0.258309</td>\n",
       "    </tr>\n",
       "  </tbody>\n",
       "</table>\n",
       "</div>"
      ],
      "text/plain": [
       "                       Год  GPS №  рН солевой вытяжки, ед. рН  \\\n",
       "Рельеф  Тип обработки                                           \n",
       "Плакор  ПП             0.0    0.0                    0.086416   \n",
       "        ТТ             0.0    0.0                    0.131413   \n",
       "Тальвег ПП             0.0    0.0                    0.093903   \n",
       "        ТТ             0.0    0.0                    0.269132   \n",
       "\n",
       "                       рН водной вытяжки, ед. рН  \\\n",
       "Рельеф  Тип обработки                              \n",
       "Плакор  ПП                              0.134664   \n",
       "        ТТ                              0.125224   \n",
       "Тальвег ПП                              0.077237   \n",
       "        ТТ                              0.217279   \n",
       "\n",
       "                       Фосфор (подвижная форма), мг/кг  \\\n",
       "Рельеф  Тип обработки                                    \n",
       "Плакор  ПП                                    2.950643   \n",
       "        ТТ                                    5.979967   \n",
       "Тальвег ПП                                    3.921683   \n",
       "        ТТ                                    6.145821   \n",
       "\n",
       "                       Калий (подвижная форма), млн-1  Общий азот, %  Гумус, %  \n",
       "Рельеф  Тип обработки                                                           \n",
       "Плакор  ПП                                  60.458793       0.006992  0.247262  \n",
       "        ТТ                                  59.495386       0.008756  0.162102  \n",
       "Тальвег ПП                                  55.627444       0.043063  1.095135  \n",
       "        ТТ                                  77.797000       0.023664  0.258309  "
      ]
     },
     "execution_count": 6,
     "metadata": {},
     "output_type": "execute_result"
    }
   ],
   "source": [
    "агрохимия_для_статьи.groupby(['Рельеф','Тип обработки']).std()"
   ]
  },
  {
   "cell_type": "code",
   "execution_count": 7,
   "metadata": {},
   "outputs": [
    {
     "data": {
      "text/html": [
       "<div>\n",
       "<style scoped>\n",
       "    .dataframe tbody tr th:only-of-type {\n",
       "        vertical-align: middle;\n",
       "    }\n",
       "\n",
       "    .dataframe tbody tr th {\n",
       "        vertical-align: top;\n",
       "    }\n",
       "\n",
       "    .dataframe thead th {\n",
       "        text-align: right;\n",
       "    }\n",
       "</style>\n",
       "<table border=\"1\" class=\"dataframe\">\n",
       "  <thead>\n",
       "    <tr style=\"text-align: right;\">\n",
       "      <th></th>\n",
       "      <th></th>\n",
       "      <th>Год</th>\n",
       "      <th>GPS №</th>\n",
       "      <th>рН солевой вытяжки, ед. рН</th>\n",
       "      <th>рН водной вытяжки, ед. рН</th>\n",
       "      <th>Фосфор (подвижная форма), мг/кг</th>\n",
       "      <th>Калий (подвижная форма), млн-1</th>\n",
       "      <th>Общий азот, %</th>\n",
       "      <th>Гумус, %</th>\n",
       "    </tr>\n",
       "    <tr>\n",
       "      <th>Рельеф</th>\n",
       "      <th>Тип обработки</th>\n",
       "      <th></th>\n",
       "      <th></th>\n",
       "      <th></th>\n",
       "      <th></th>\n",
       "      <th></th>\n",
       "      <th></th>\n",
       "      <th></th>\n",
       "      <th></th>\n",
       "    </tr>\n",
       "  </thead>\n",
       "  <tbody>\n",
       "    <tr>\n",
       "      <th rowspan=\"2\" valign=\"top\">Плакор</th>\n",
       "      <th>ПП</th>\n",
       "      <td>0.0</td>\n",
       "      <td>0.0</td>\n",
       "      <td>1.193101</td>\n",
       "      <td>1.619144</td>\n",
       "      <td>25.237947</td>\n",
       "      <td>16.839803</td>\n",
       "      <td>4.212084</td>\n",
       "      <td>12.578011</td>\n",
       "    </tr>\n",
       "    <tr>\n",
       "      <th>ТТ</th>\n",
       "      <td>0.0</td>\n",
       "      <td>0.0</td>\n",
       "      <td>1.842529</td>\n",
       "      <td>1.557231</td>\n",
       "      <td>33.977083</td>\n",
       "      <td>17.187221</td>\n",
       "      <td>5.798643</td>\n",
       "      <td>8.288361</td>\n",
       "    </tr>\n",
       "    <tr>\n",
       "      <th rowspan=\"2\" valign=\"top\">Тальвег</th>\n",
       "      <th>ПП</th>\n",
       "      <td>0.0</td>\n",
       "      <td>0.0</td>\n",
       "      <td>1.295572</td>\n",
       "      <td>0.936093</td>\n",
       "      <td>31.549602</td>\n",
       "      <td>16.326326</td>\n",
       "      <td>23.791857</td>\n",
       "      <td>44.690999</td>\n",
       "    </tr>\n",
       "    <tr>\n",
       "      <th>ТТ</th>\n",
       "      <td>0.0</td>\n",
       "      <td>0.0</td>\n",
       "      <td>3.738469</td>\n",
       "      <td>2.529731</td>\n",
       "      <td>35.118975</td>\n",
       "      <td>25.948770</td>\n",
       "      <td>20.400275</td>\n",
       "      <td>13.825637</td>\n",
       "    </tr>\n",
       "  </tbody>\n",
       "</table>\n",
       "</div>"
      ],
      "text/plain": [
       "                       Год  GPS №  рН солевой вытяжки, ед. рН  \\\n",
       "Рельеф  Тип обработки                                           \n",
       "Плакор  ПП             0.0    0.0                    1.193101   \n",
       "        ТТ             0.0    0.0                    1.842529   \n",
       "Тальвег ПП             0.0    0.0                    1.295572   \n",
       "        ТТ             0.0    0.0                    3.738469   \n",
       "\n",
       "                       рН водной вытяжки, ед. рН  \\\n",
       "Рельеф  Тип обработки                              \n",
       "Плакор  ПП                              1.619144   \n",
       "        ТТ                              1.557231   \n",
       "Тальвег ПП                              0.936093   \n",
       "        ТТ                              2.529731   \n",
       "\n",
       "                       Фосфор (подвижная форма), мг/кг  \\\n",
       "Рельеф  Тип обработки                                    \n",
       "Плакор  ПП                                   25.237947   \n",
       "        ТТ                                   33.977083   \n",
       "Тальвег ПП                                   31.549602   \n",
       "        ТТ                                   35.118975   \n",
       "\n",
       "                       Калий (подвижная форма), млн-1  Общий азот, %  \\\n",
       "Рельеф  Тип обработки                                                  \n",
       "Плакор  ПП                                  16.839803       4.212084   \n",
       "        ТТ                                  17.187221       5.798643   \n",
       "Тальвег ПП                                  16.326326      23.791857   \n",
       "        ТТ                                  25.948770      20.400275   \n",
       "\n",
       "                        Гумус, %  \n",
       "Рельеф  Тип обработки             \n",
       "Плакор  ПП             12.578011  \n",
       "        ТТ              8.288361  \n",
       "Тальвег ПП             44.690999  \n",
       "        ТТ             13.825637  "
      ]
     },
     "execution_count": 7,
     "metadata": {},
     "output_type": "execute_result"
    }
   ],
   "source": [
    "агрохимия_для_статьи.groupby(['Рельеф','Тип обработки']).std() / агрохимия_для_статьи.groupby(['Рельеф','Тип обработки']).mean() * 100"
   ]
  },
  {
   "cell_type": "code",
   "execution_count": 74,
   "metadata": {},
   "outputs": [],
   "source": [
    "STD = агрохимия_для_статьи.groupby(['Рельеф','Тип обработки' ]).std()[[\"Фосфор (подвижная форма), мг/кг\"]]\n",
    "Xm = агрохимия_для_статьи.groupby(['Рельеф','Тип обработки']).mean()[[\"Фосфор (подвижная форма), мг/кг\"]]\n",
    "Count = агрохимия_для_статьи.groupby(['Рельеф','Тип обработки']).count()[[\"Фосфор (подвижная форма), мг/кг\"]]\n",
    "\n",
    "top = Xm + (1.96 * (STD/(Count ** 0.5) ))\n",
    "bottom = Xm - (1.96 * (STD/(Count ** 0.5) ))"
   ]
  },
  {
   "cell_type": "code",
   "execution_count": 75,
   "metadata": {},
   "outputs": [
    {
     "data": {
      "text/html": [
       "<div>\n",
       "<style scoped>\n",
       "    .dataframe tbody tr th:only-of-type {\n",
       "        vertical-align: middle;\n",
       "    }\n",
       "\n",
       "    .dataframe tbody tr th {\n",
       "        vertical-align: top;\n",
       "    }\n",
       "\n",
       "    .dataframe thead th {\n",
       "        text-align: right;\n",
       "    }\n",
       "</style>\n",
       "<table border=\"1\" class=\"dataframe\">\n",
       "  <thead>\n",
       "    <tr style=\"text-align: right;\">\n",
       "      <th></th>\n",
       "      <th></th>\n",
       "      <th>Фосфор (подвижная форма), мг/кг</th>\n",
       "    </tr>\n",
       "    <tr>\n",
       "      <th>Рельеф</th>\n",
       "      <th>Тип обработки</th>\n",
       "      <th></th>\n",
       "    </tr>\n",
       "  </thead>\n",
       "  <tbody>\n",
       "    <tr>\n",
       "      <th rowspan=\"2\" valign=\"top\">Плакор</th>\n",
       "      <th>ПП</th>\n",
       "      <td>11.691297</td>\n",
       "    </tr>\n",
       "    <tr>\n",
       "      <th>ТТ</th>\n",
       "      <td>17.600000</td>\n",
       "    </tr>\n",
       "    <tr>\n",
       "      <th rowspan=\"2\" valign=\"top\">Тальвег</th>\n",
       "      <th>ПП</th>\n",
       "      <td>12.430213</td>\n",
       "    </tr>\n",
       "    <tr>\n",
       "      <th>ТТ</th>\n",
       "      <td>17.500000</td>\n",
       "    </tr>\n",
       "  </tbody>\n",
       "</table>\n",
       "</div>"
      ],
      "text/plain": [
       "                       Фосфор (подвижная форма), мг/кг\n",
       "Рельеф  Тип обработки                                 \n",
       "Плакор  ПП                                   11.691297\n",
       "        ТТ                                   17.600000\n",
       "Тальвег ПП                                   12.430213\n",
       "        ТТ                                   17.500000"
      ]
     },
     "execution_count": 75,
     "metadata": {},
     "output_type": "execute_result"
    }
   ],
   "source": [
    "Xm"
   ]
  },
  {
   "cell_type": "code",
   "execution_count": 76,
   "metadata": {},
   "outputs": [
    {
     "data": {
      "text/html": [
       "<div>\n",
       "<style scoped>\n",
       "    .dataframe tbody tr th:only-of-type {\n",
       "        vertical-align: middle;\n",
       "    }\n",
       "\n",
       "    .dataframe tbody tr th {\n",
       "        vertical-align: top;\n",
       "    }\n",
       "\n",
       "    .dataframe thead th {\n",
       "        text-align: right;\n",
       "    }\n",
       "</style>\n",
       "<table border=\"1\" class=\"dataframe\">\n",
       "  <thead>\n",
       "    <tr style=\"text-align: right;\">\n",
       "      <th></th>\n",
       "      <th></th>\n",
       "      <th>Фосфор (подвижная форма), мг/кг</th>\n",
       "    </tr>\n",
       "    <tr>\n",
       "      <th>Рельеф</th>\n",
       "      <th>Тип обработки</th>\n",
       "      <th></th>\n",
       "    </tr>\n",
       "  </thead>\n",
       "  <tbody>\n",
       "    <tr>\n",
       "      <th rowspan=\"2\" valign=\"top\">Плакор</th>\n",
       "      <th>ПП</th>\n",
       "      <td>9.862469</td>\n",
       "    </tr>\n",
       "    <tr>\n",
       "      <th>ТТ</th>\n",
       "      <td>13.893578</td>\n",
       "    </tr>\n",
       "    <tr>\n",
       "      <th rowspan=\"2\" valign=\"top\">Тальвег</th>\n",
       "      <th>ПП</th>\n",
       "      <td>9.999529</td>\n",
       "    </tr>\n",
       "    <tr>\n",
       "      <th>ТТ</th>\n",
       "      <td>13.690781</td>\n",
       "    </tr>\n",
       "  </tbody>\n",
       "</table>\n",
       "</div>"
      ],
      "text/plain": [
       "                       Фосфор (подвижная форма), мг/кг\n",
       "Рельеф  Тип обработки                                 \n",
       "Плакор  ПП                                    9.862469\n",
       "        ТТ                                   13.893578\n",
       "Тальвег ПП                                    9.999529\n",
       "        ТТ                                   13.690781"
      ]
     },
     "execution_count": 76,
     "metadata": {},
     "output_type": "execute_result"
    }
   ],
   "source": [
    "bottom"
   ]
  },
  {
   "cell_type": "code",
   "execution_count": 72,
   "metadata": {},
   "outputs": [
    {
     "data": {
      "text/plain": [
       "Рельеф   Тип обработки\n",
       "Плакор   ПП               13.520125\n",
       "         ТТ               21.306422\n",
       "Тальвег  ПП               14.860898\n",
       "         ТТ               21.309219\n",
       "Name: Фосфор (подвижная форма), мг/кг, dtype: float64"
      ]
     },
     "execution_count": 72,
     "metadata": {},
     "output_type": "execute_result"
    }
   ],
   "source": [
    "top"
   ]
  },
  {
   "cell_type": "code",
   "execution_count": null,
   "metadata": {},
   "outputs": [],
   "source": [
    "агрохимия_для_статьи.groupby(['Рельеф','Тип обработки']).std()"
   ]
  },
  {
   "cell_type": "code",
   "execution_count": 69,
   "metadata": {},
   "outputs": [
    {
     "data": {
      "image/png": "[encoded data removed]",
      "text/plain": [
       "<Figure size 432x288 with 1 Axes>"
      ]
     },
     "metadata": {
      "needs_background": "light"
     },
     "output_type": "display_data"
    }
   ],
   "source": [
    "plot = sns.pointplot(\n",
    "    data = агрохимия_для_статьи,\n",
    "    x = 'Рельеф',\n",
    "    y = \"Фосфор (подвижная форма), мг/кг\", \n",
    "    hue = 'Тип обработки',\n",
    "    groupby = 'Тип обработки', \n",
    "    palette = \"prism_r\",\n",
    "    scale = 1.2,\n",
    "    ci = 95,\n",
    "    dodge= 0.5,\n",
    "    join = False,\n",
    "    capsize = .05)\n",
    "\n",
    "#capsize = .05"
   ]
  },
  {
   "cell_type": "code",
   "execution_count": 70,
   "metadata": {},
   "outputs": [
    {
     "data": {
      "text/plain": [
       "<AxesSubplot:xlabel='Рельеф', ylabel='Фосфор (подвижная форма), мг/кг'>"
      ]
     },
     "execution_count": 70,
     "metadata": {},
     "output_type": "execute_result"
    }
   ],
   "source": []
  },
  {
   "cell_type": "code",
   "execution_count": 8,
   "metadata": {},
   "outputs": [
    {
     "data": {
      "text/plain": [
       "<matplotlib.legend.Legend at 0x1cbc197db80>"
      ]
     },
     "execution_count": 8,
     "metadata": {},
     "output_type": "execute_result"
    },
    {
     "data": {
      "image/png": "[encoded data removed]",
      "text/plain": [
       "<Figure size 648x720 with 6 Axes>"
      ]
     },
     "metadata": {
      "needs_background": "light"
     },
     "output_type": "display_data"
    }
   ],
   "source": [
    "fig, ax  = plt.subplots(3,2, figsize = (9,10))\n",
    "sns.pointplot(\n",
    "    data = агрохимия_для_статьи,\n",
    "    x = 'Рельеф',\n",
    "    y = \"рН солевой вытяжки, ед. рН\", \n",
    "    hue = 'Тип обработки', \n",
    "    palette = \"prism_r\",\n",
    "    scale = 1.2,\n",
    "    ci = 95,\n",
    "    dodge= 0.5,\n",
    "    join = False,\n",
    "    capsize = .05,\n",
    "    ax = ax[0,0])\n",
    "ax[0,0].set_xlabel('')\n",
    "ax[0,0].legend(bbox_to_anchor=(-0.1, -2.6), loc=2, borderaxespad=0., title = 'Тип обработки')\n",
    "\n",
    "sns.pointplot(\n",
    "    data = агрохимия_для_статьи,\n",
    "    x = 'Рельеф',\n",
    "    y = \"рН водной вытяжки, ед. рН\", \n",
    "    hue = 'Тип обработки', \n",
    "    palette = \"prism_r\",\n",
    "    scale = 1.2,\n",
    "    ci = 95,\n",
    "    dodge= 0.5,\n",
    "    join = False,\n",
    "    capsize = .05,\n",
    "    ax = ax[0,1])\n",
    "ax[0,1].set_xlabel('')\n",
    "ax[0,1].legend([],[])\n",
    "\n",
    "sns.pointplot(\n",
    "    data = агрохимия_для_статьи,\n",
    "    x = 'Рельеф',\n",
    "    y = \"Фосфор (подвижная форма), мг/кг\", \n",
    "    hue = 'Тип обработки', \n",
    "    palette = \"prism_r\",\n",
    "    scale = 1.2,\n",
    "    ci = 95,\n",
    "    dodge= 0.5,\n",
    "    join = False,\n",
    "    capsize = .05,\n",
    "    ax = ax[1,0])\n",
    "ax[1,0].set_xlabel('')\n",
    "ax[1,0].legend([],[])\n",
    "\n",
    "sns.pointplot(\n",
    "    data = агрохимия_для_статьи,\n",
    "    x = 'Рельеф',\n",
    "    y = \"Калий (подвижная форма), млн-1\", \n",
    "    hue = 'Тип обработки', \n",
    "    palette = \"prism_r\",\n",
    "    scale = 1.2,\n",
    "    ci = 95,\n",
    "    dodge= 0.5,\n",
    "    join = False,\n",
    "    capsize = .05,\n",
    "    ax = ax[1,1])\n",
    "ax[1,1].set_ylabel('Калий (подвижная форма), мг/кг')\n",
    "\n",
    "ax[1,1].legend([],[])\n",
    "\n",
    "sns.pointplot(\n",
    "    data = агрохимия_для_статьи,\n",
    "    x = 'Рельеф',\n",
    "    y = \"Общий азот, %\", \n",
    "    hue = 'Тип обработки', \n",
    "    palette = \"prism_r\",\n",
    "    scale = 1.2,\n",
    "    ci = 95,\n",
    "    dodge= 0.5,\n",
    "    join = False,\n",
    "    capsize = .05,\n",
    "    ax = ax[2,0])\n",
    "ax[2,0].set_xlabel('')\n",
    "ax[2,0].legend([],[])\n",
    "\n",
    "sns.pointplot(\n",
    "    data = агрохимия_для_статьи,\n",
    "    x = 'Рельеф',\n",
    "    y = 'Гумус, %', \n",
    "    hue = 'Тип обработки', \n",
    "    palette = \"prism_r\",\n",
    "    scale = 1.2,\n",
    "    ci = 95,\n",
    "    dodge= 0.5,\n",
    "    join = False,\n",
    "    capsize = .05,\n",
    "    ax = ax[2,1])\n",
    "ax[2,1].set_xlabel('')\n",
    "ax[2,1].legend([],[])\n",
    "\n",
    "\n",
    "\n"
   ]
  },
  {
   "cell_type": "code",
   "execution_count": 9,
   "metadata": {},
   "outputs": [
    {
     "data": {
      "text/html": [
       "<div>\n",
       "<style scoped>\n",
       "    .dataframe tbody tr th:only-of-type {\n",
       "        vertical-align: middle;\n",
       "    }\n",
       "\n",
       "    .dataframe tbody tr th {\n",
       "        vertical-align: top;\n",
       "    }\n",
       "\n",
       "    .dataframe thead th {\n",
       "        text-align: right;\n",
       "    }\n",
       "</style>\n",
       "<table border=\"1\" class=\"dataframe\">\n",
       "  <thead>\n",
       "    <tr style=\"text-align: right;\">\n",
       "      <th></th>\n",
       "      <th>p-value</th>\n",
       "    </tr>\n",
       "  </thead>\n",
       "  <tbody>\n",
       "    <tr>\n",
       "      <th>Типобработки</th>\n",
       "      <td>0.145</td>\n",
       "    </tr>\n",
       "    <tr>\n",
       "      <th>Рельеф</th>\n",
       "      <td>0.508</td>\n",
       "    </tr>\n",
       "    <tr>\n",
       "      <th>Типобработки:Рельеф</th>\n",
       "      <td>0.560</td>\n",
       "    </tr>\n",
       "    <tr>\n",
       "      <th>Residual</th>\n",
       "      <td>NaN</td>\n",
       "    </tr>\n",
       "  </tbody>\n",
       "</table>\n",
       "</div>"
      ],
      "text/plain": [
       "                     p-value\n",
       "Типобработки           0.145\n",
       "Рельеф                 0.508\n",
       "Типобработки:Рельеф    0.560\n",
       "Residual                 NaN"
      ]
     },
     "execution_count": 9,
     "metadata": {},
     "output_type": "execute_result"
    }
   ],
   "source": [
    "aov_for_nominal(агрохимия_для_статьи, 'рН солевой вытяжки, ед. рН')"
   ]
  },
  {
   "cell_type": "code",
   "execution_count": 10,
   "metadata": {},
   "outputs": [
    {
     "data": {
      "text/html": [
       "<div>\n",
       "<style scoped>\n",
       "    .dataframe tbody tr th:only-of-type {\n",
       "        vertical-align: middle;\n",
       "    }\n",
       "\n",
       "    .dataframe tbody tr th {\n",
       "        vertical-align: top;\n",
       "    }\n",
       "\n",
       "    .dataframe thead th {\n",
       "        text-align: right;\n",
       "    }\n",
       "</style>\n",
       "<table border=\"1\" class=\"dataframe\">\n",
       "  <thead>\n",
       "    <tr style=\"text-align: right;\">\n",
       "      <th></th>\n",
       "      <th>p-value</th>\n",
       "    </tr>\n",
       "  </thead>\n",
       "  <tbody>\n",
       "    <tr>\n",
       "      <th>Типобработки</th>\n",
       "      <td>0.116</td>\n",
       "    </tr>\n",
       "    <tr>\n",
       "      <th>Рельеф</th>\n",
       "      <td>0.000</td>\n",
       "    </tr>\n",
       "    <tr>\n",
       "      <th>Типобработки:Рельеф</th>\n",
       "      <td>0.000</td>\n",
       "    </tr>\n",
       "    <tr>\n",
       "      <th>Residual</th>\n",
       "      <td>NaN</td>\n",
       "    </tr>\n",
       "  </tbody>\n",
       "</table>\n",
       "</div>"
      ],
      "text/plain": [
       "                     p-value\n",
       "Типобработки           0.116\n",
       "Рельеф                 0.000\n",
       "Типобработки:Рельеф    0.000\n",
       "Residual                 NaN"
      ]
     },
     "execution_count": 10,
     "metadata": {},
     "output_type": "execute_result"
    }
   ],
   "source": [
    "aov_for_nominal(агрохимия_для_статьи, 'рН водной вытяжки, ед. рН')"
   ]
  },
  {
   "cell_type": "code",
   "execution_count": 11,
   "metadata": {},
   "outputs": [
    {
     "data": {
      "text/html": [
       "<div>\n",
       "<style scoped>\n",
       "    .dataframe tbody tr th:only-of-type {\n",
       "        vertical-align: middle;\n",
       "    }\n",
       "\n",
       "    .dataframe tbody tr th {\n",
       "        vertical-align: top;\n",
       "    }\n",
       "\n",
       "    .dataframe thead th {\n",
       "        text-align: right;\n",
       "    }\n",
       "</style>\n",
       "<table border=\"1\" class=\"dataframe\">\n",
       "  <thead>\n",
       "    <tr style=\"text-align: right;\">\n",
       "      <th></th>\n",
       "      <th>p-value</th>\n",
       "    </tr>\n",
       "  </thead>\n",
       "  <tbody>\n",
       "    <tr>\n",
       "      <th>Типобработки</th>\n",
       "      <td>0.001</td>\n",
       "    </tr>\n",
       "    <tr>\n",
       "      <th>Рельеф</th>\n",
       "      <td>0.839</td>\n",
       "    </tr>\n",
       "    <tr>\n",
       "      <th>Типобработки:Рельеф</th>\n",
       "      <td>0.790</td>\n",
       "    </tr>\n",
       "    <tr>\n",
       "      <th>Residual</th>\n",
       "      <td>NaN</td>\n",
       "    </tr>\n",
       "  </tbody>\n",
       "</table>\n",
       "</div>"
      ],
      "text/plain": [
       "                     p-value\n",
       "Типобработки           0.001\n",
       "Рельеф                 0.839\n",
       "Типобработки:Рельеф    0.790\n",
       "Residual                 NaN"
      ]
     },
     "execution_count": 11,
     "metadata": {},
     "output_type": "execute_result"
    }
   ],
   "source": [
    "aov_for_nominal(агрохимия_для_статьи, 'Фосфор (подвижная форма), мг/кг')"
   ]
  },
  {
   "cell_type": "code",
   "execution_count": 12,
   "metadata": {},
   "outputs": [
    {
     "data": {
      "text/html": [
       "<div>\n",
       "<style scoped>\n",
       "    .dataframe tbody tr th:only-of-type {\n",
       "        vertical-align: middle;\n",
       "    }\n",
       "\n",
       "    .dataframe tbody tr th {\n",
       "        vertical-align: top;\n",
       "    }\n",
       "\n",
       "    .dataframe thead th {\n",
       "        text-align: right;\n",
       "    }\n",
       "</style>\n",
       "<table border=\"1\" class=\"dataframe\">\n",
       "  <thead>\n",
       "    <tr style=\"text-align: right;\">\n",
       "      <th></th>\n",
       "      <th>p-value</th>\n",
       "    </tr>\n",
       "  </thead>\n",
       "  <tbody>\n",
       "    <tr>\n",
       "      <th>Типобработки</th>\n",
       "      <td>0.192</td>\n",
       "    </tr>\n",
       "    <tr>\n",
       "      <th>Рельеф</th>\n",
       "      <td>0.118</td>\n",
       "    </tr>\n",
       "    <tr>\n",
       "      <th>Типобработки:Рельеф</th>\n",
       "      <td>0.492</td>\n",
       "    </tr>\n",
       "    <tr>\n",
       "      <th>Residual</th>\n",
       "      <td>NaN</td>\n",
       "    </tr>\n",
       "  </tbody>\n",
       "</table>\n",
       "</div>"
      ],
      "text/plain": [
       "                     p-value\n",
       "Типобработки           0.192\n",
       "Рельеф                 0.118\n",
       "Типобработки:Рельеф    0.492\n",
       "Residual                 NaN"
      ]
     },
     "execution_count": 12,
     "metadata": {},
     "output_type": "execute_result"
    }
   ],
   "source": [
    "aov_for_nominal(агрохимия_для_статьи, 'Калий (подвижная форма), млн-1')"
   ]
  },
  {
   "cell_type": "code",
   "execution_count": 13,
   "metadata": {},
   "outputs": [
    {
     "data": {
      "text/html": [
       "<div>\n",
       "<style scoped>\n",
       "    .dataframe tbody tr th:only-of-type {\n",
       "        vertical-align: middle;\n",
       "    }\n",
       "\n",
       "    .dataframe tbody tr th {\n",
       "        vertical-align: top;\n",
       "    }\n",
       "\n",
       "    .dataframe thead th {\n",
       "        text-align: right;\n",
       "    }\n",
       "</style>\n",
       "<table border=\"1\" class=\"dataframe\">\n",
       "  <thead>\n",
       "    <tr style=\"text-align: right;\">\n",
       "      <th></th>\n",
       "      <th>p-value</th>\n",
       "    </tr>\n",
       "  </thead>\n",
       "  <tbody>\n",
       "    <tr>\n",
       "      <th>Типобработки</th>\n",
       "      <td>0.000</td>\n",
       "    </tr>\n",
       "    <tr>\n",
       "      <th>Рельеф</th>\n",
       "      <td>0.218</td>\n",
       "    </tr>\n",
       "    <tr>\n",
       "      <th>Типобработки:Рельеф</th>\n",
       "      <td>0.003</td>\n",
       "    </tr>\n",
       "    <tr>\n",
       "      <th>Residual</th>\n",
       "      <td>NaN</td>\n",
       "    </tr>\n",
       "  </tbody>\n",
       "</table>\n",
       "</div>"
      ],
      "text/plain": [
       "                     p-value\n",
       "Типобработки           0.000\n",
       "Рельеф                 0.218\n",
       "Типобработки:Рельеф    0.003\n",
       "Residual                 NaN"
      ]
     },
     "execution_count": 13,
     "metadata": {},
     "output_type": "execute_result"
    }
   ],
   "source": [
    "aov_for_nominal(агрохимия_для_статьи, 'Общий азот, %')"
   ]
  },
  {
   "cell_type": "code",
   "execution_count": 14,
   "metadata": {},
   "outputs": [
    {
     "data": {
      "text/html": [
       "<div>\n",
       "<style scoped>\n",
       "    .dataframe tbody tr th:only-of-type {\n",
       "        vertical-align: middle;\n",
       "    }\n",
       "\n",
       "    .dataframe tbody tr th {\n",
       "        vertical-align: top;\n",
       "    }\n",
       "\n",
       "    .dataframe thead th {\n",
       "        text-align: right;\n",
       "    }\n",
       "</style>\n",
       "<table border=\"1\" class=\"dataframe\">\n",
       "  <thead>\n",
       "    <tr style=\"text-align: right;\">\n",
       "      <th></th>\n",
       "      <th>p-value</th>\n",
       "    </tr>\n",
       "  </thead>\n",
       "  <tbody>\n",
       "    <tr>\n",
       "      <th>Типобработки</th>\n",
       "      <td>0.116</td>\n",
       "    </tr>\n",
       "    <tr>\n",
       "      <th>Рельеф</th>\n",
       "      <td>0.287</td>\n",
       "    </tr>\n",
       "    <tr>\n",
       "      <th>Типобработки:Рельеф</th>\n",
       "      <td>0.129</td>\n",
       "    </tr>\n",
       "    <tr>\n",
       "      <th>Residual</th>\n",
       "      <td>NaN</td>\n",
       "    </tr>\n",
       "  </tbody>\n",
       "</table>\n",
       "</div>"
      ],
      "text/plain": [
       "                     p-value\n",
       "Типобработки           0.116\n",
       "Рельеф                 0.287\n",
       "Типобработки:Рельеф    0.129\n",
       "Residual                 NaN"
      ]
     },
     "execution_count": 14,
     "metadata": {},
     "output_type": "execute_result"
    }
   ],
   "source": [
    "aov_for_nominal(агрохимия_для_статьи, 'Гумус, %')"
   ]
  },
  {
   "cell_type": "markdown",
   "metadata": {},
   "source": [
    "# ФИЗИКА"
   ]
  },
  {
   "cell_type": "code",
   "execution_count": 15,
   "metadata": {},
   "outputs": [],
   "source": [
    "def aov_for_nominal(df, agrochem_property):\n",
    "    \"\"\"\n",
    "    input - dataframe by agrochemical_proprerty\n",
    "    output - resul of MANOVA\n",
    "    \"\"\"\n",
    "    dispers = df.copy()\n",
    "    agrochem_property_ = re.sub(r'[\\(),.%№ /-]', '' , agrochem_property)\n",
    "    dispers.columns = dispers.columns.str.replace(r'[\\(),.%№ /-]', '' )\n",
    "    reg = ols('{} ~ Типобработки'.format(agrochem_property_) ,  data=dispers).fit()\n",
    "    aov = sm.stats.anova_lm(reg)\n",
    "    aov = aov[[\"PR(>F)\"]]\n",
    "    aov.columns = ['p-value']\n",
    "    aov = aov.iloc[:4,:]\n",
    "    aov['p-value'] = round(aov['p-value'] , 3)\n",
    "    return aov"
   ]
  },
  {
   "cell_type": "code",
   "execution_count": 16,
   "metadata": {},
   "outputs": [],
   "source": [
    "агрофизика_для_статьи = pd.read_csv(\"ready_data/агрофизика.csv\")\n",
    "fiz_params = [\"Тип обработки\",\n",
    "             \"Содержание 0,25–10 мм, %\",\n",
    "             \"Содержание 0.25–10 мм(водоустойчивые), % \",\n",
    "             \"СВД, мм\",\n",
    "             \"СВД водоустойчивые >10, мм\",\n",
    "             \"СВД водоустойчивые 10-7, мм\",\n",
    "             \"СВД водоустойчивые 7-5, мм\",\n",
    "             \"СВД водоустойчивые 5-3, мм\"    ]\n",
    "\n",
    "агрофизика_для_статьи = агрофизика_для_статьи[fiz_params]\n",
    "\n",
    "SVD_by_agregates = агрофизика_для_статьи[[\n",
    "    'Тип обработки',\n",
    "    'СВД водоустойчивые >10, мм',\n",
    "    'СВД водоустойчивые 10-7, мм',\n",
    "    'СВД водоустойчивые 7-5, мм' ,\n",
    "    'СВД водоустойчивые 5-3, мм']]\n",
    "SVD_by_agregates = SVD_by_agregates.melt(\n",
    "    id_vars = 'Тип обработки' ,\n",
    "    value_vars = [\n",
    "        'СВД водоустойчивые >10, мм',\n",
    "        'СВД водоустойчивые 10-7, мм',\n",
    "        'СВД водоустойчивые 7-5, мм' ,\n",
    "        'СВД водоустойчивые 5-3, мм']\n",
    "    , var_name = 'Агрегаты, мм'\n",
    "    , value_name='Размер, мм')\n",
    "\n",
    "SVD_by_agregates['Агрегаты, мм'] = SVD_by_agregates['Агрегаты, мм'].str.split(' ', expand=True)[2].str.replace(',','')\n",
    "\n"
   ]
  },
  {
   "cell_type": "code",
   "execution_count": 17,
   "metadata": {},
   "outputs": [
    {
     "data": {
      "text/html": [
       "<div>\n",
       "<style scoped>\n",
       "    .dataframe tbody tr th:only-of-type {\n",
       "        vertical-align: middle;\n",
       "    }\n",
       "\n",
       "    .dataframe tbody tr th {\n",
       "        vertical-align: top;\n",
       "    }\n",
       "\n",
       "    .dataframe thead th {\n",
       "        text-align: right;\n",
       "    }\n",
       "</style>\n",
       "<table border=\"1\" class=\"dataframe\">\n",
       "  <thead>\n",
       "    <tr style=\"text-align: right;\">\n",
       "      <th></th>\n",
       "      <th>Содержание 0,25–10 мм, %</th>\n",
       "      <th>Содержание 0.25–10 мм(водоустойчивые), %</th>\n",
       "      <th>СВД, мм</th>\n",
       "      <th>СВД водоустойчивые &gt;10, мм</th>\n",
       "      <th>СВД водоустойчивые 10-7, мм</th>\n",
       "      <th>СВД водоустойчивые 7-5, мм</th>\n",
       "      <th>СВД водоустойчивые 5-3, мм</th>\n",
       "    </tr>\n",
       "    <tr>\n",
       "      <th>Тип обработки</th>\n",
       "      <th></th>\n",
       "      <th></th>\n",
       "      <th></th>\n",
       "      <th></th>\n",
       "      <th></th>\n",
       "      <th></th>\n",
       "      <th></th>\n",
       "    </tr>\n",
       "  </thead>\n",
       "  <tbody>\n",
       "    <tr>\n",
       "      <th>ПП</th>\n",
       "      <td>9</td>\n",
       "      <td>9</td>\n",
       "      <td>9</td>\n",
       "      <td>9</td>\n",
       "      <td>9</td>\n",
       "      <td>9</td>\n",
       "      <td>9</td>\n",
       "    </tr>\n",
       "    <tr>\n",
       "      <th>ТТ</th>\n",
       "      <td>6</td>\n",
       "      <td>6</td>\n",
       "      <td>6</td>\n",
       "      <td>6</td>\n",
       "      <td>6</td>\n",
       "      <td>6</td>\n",
       "      <td>6</td>\n",
       "    </tr>\n",
       "  </tbody>\n",
       "</table>\n",
       "</div>"
      ],
      "text/plain": [
       "               Содержание 0,25–10 мм, %  \\\n",
       "Тип обработки                             \n",
       "ПП                                    9   \n",
       "ТТ                                    6   \n",
       "\n",
       "               Содержание 0.25–10 мм(водоустойчивые), %   СВД, мм  \\\n",
       "Тип обработки                                                       \n",
       "ПП                                                     9        9   \n",
       "ТТ                                                     6        6   \n",
       "\n",
       "               СВД водоустойчивые >10, мм  СВД водоустойчивые 10-7, мм  \\\n",
       "Тип обработки                                                            \n",
       "ПП                                      9                            9   \n",
       "ТТ                                      6                            6   \n",
       "\n",
       "               СВД водоустойчивые 7-5, мм  СВД водоустойчивые 5-3, мм  \n",
       "Тип обработки                                                          \n",
       "ПП                                      9                           9  \n",
       "ТТ                                      6                           6  "
      ]
     },
     "execution_count": 17,
     "metadata": {},
     "output_type": "execute_result"
    }
   ],
   "source": [
    "агрофизика_для_статьи.groupby(['Тип обработки']).count()"
   ]
  },
  {
   "cell_type": "code",
   "execution_count": 18,
   "metadata": {},
   "outputs": [
    {
     "data": {
      "text/html": [
       "<div>\n",
       "<style scoped>\n",
       "    .dataframe tbody tr th:only-of-type {\n",
       "        vertical-align: middle;\n",
       "    }\n",
       "\n",
       "    .dataframe tbody tr th {\n",
       "        vertical-align: top;\n",
       "    }\n",
       "\n",
       "    .dataframe thead th {\n",
       "        text-align: right;\n",
       "    }\n",
       "</style>\n",
       "<table border=\"1\" class=\"dataframe\">\n",
       "  <thead>\n",
       "    <tr style=\"text-align: right;\">\n",
       "      <th></th>\n",
       "      <th>Содержание 0,25–10 мм, %</th>\n",
       "      <th>Содержание 0.25–10 мм(водоустойчивые), %</th>\n",
       "      <th>СВД, мм</th>\n",
       "      <th>СВД водоустойчивые &gt;10, мм</th>\n",
       "      <th>СВД водоустойчивые 10-7, мм</th>\n",
       "      <th>СВД водоустойчивые 7-5, мм</th>\n",
       "      <th>СВД водоустойчивые 5-3, мм</th>\n",
       "    </tr>\n",
       "    <tr>\n",
       "      <th>Тип обработки</th>\n",
       "      <th></th>\n",
       "      <th></th>\n",
       "      <th></th>\n",
       "      <th></th>\n",
       "      <th></th>\n",
       "      <th></th>\n",
       "      <th></th>\n",
       "    </tr>\n",
       "  </thead>\n",
       "  <tbody>\n",
       "    <tr>\n",
       "      <th>ПП</th>\n",
       "      <td>0.398852</td>\n",
       "      <td>0.661681</td>\n",
       "      <td>9.106176</td>\n",
       "      <td>5.24834</td>\n",
       "      <td>3.521854</td>\n",
       "      <td>2.071514</td>\n",
       "      <td>1.298840</td>\n",
       "    </tr>\n",
       "    <tr>\n",
       "      <th>ТТ</th>\n",
       "      <td>0.452250</td>\n",
       "      <td>0.637208</td>\n",
       "      <td>8.063008</td>\n",
       "      <td>2.75850</td>\n",
       "      <td>1.744740</td>\n",
       "      <td>1.229729</td>\n",
       "      <td>0.906875</td>\n",
       "    </tr>\n",
       "  </tbody>\n",
       "</table>\n",
       "</div>"
      ],
      "text/plain": [
       "               Содержание 0,25–10 мм, %  \\\n",
       "Тип обработки                             \n",
       "ПП                             0.398852   \n",
       "ТТ                             0.452250   \n",
       "\n",
       "               Содержание 0.25–10 мм(водоустойчивые), %    СВД, мм  \\\n",
       "Тип обработки                                                        \n",
       "ПП                                              0.661681  9.106176   \n",
       "ТТ                                              0.637208  8.063008   \n",
       "\n",
       "               СВД водоустойчивые >10, мм  СВД водоустойчивые 10-7, мм  \\\n",
       "Тип обработки                                                            \n",
       "ПП                                5.24834                     3.521854   \n",
       "ТТ                                2.75850                     1.744740   \n",
       "\n",
       "               СВД водоустойчивые 7-5, мм  СВД водоустойчивые 5-3, мм  \n",
       "Тип обработки                                                          \n",
       "ПП                               2.071514                    1.298840  \n",
       "ТТ                               1.229729                    0.906875  "
      ]
     },
     "execution_count": 18,
     "metadata": {},
     "output_type": "execute_result"
    }
   ],
   "source": [
    "агрофизика_для_статьи.groupby(['Тип обработки']).mean()"
   ]
  },
  {
   "cell_type": "code",
   "execution_count": 19,
   "metadata": {},
   "outputs": [
    {
     "data": {
      "text/html": [
       "<div>\n",
       "<style scoped>\n",
       "    .dataframe tbody tr th:only-of-type {\n",
       "        vertical-align: middle;\n",
       "    }\n",
       "\n",
       "    .dataframe tbody tr th {\n",
       "        vertical-align: top;\n",
       "    }\n",
       "\n",
       "    .dataframe thead th {\n",
       "        text-align: right;\n",
       "    }\n",
       "</style>\n",
       "<table border=\"1\" class=\"dataframe\">\n",
       "  <thead>\n",
       "    <tr style=\"text-align: right;\">\n",
       "      <th></th>\n",
       "      <th>Содержание 0,25–10 мм, %</th>\n",
       "      <th>Содержание 0.25–10 мм(водоустойчивые), %</th>\n",
       "      <th>СВД, мм</th>\n",
       "      <th>СВД водоустойчивые &gt;10, мм</th>\n",
       "      <th>СВД водоустойчивые 10-7, мм</th>\n",
       "      <th>СВД водоустойчивые 7-5, мм</th>\n",
       "      <th>СВД водоустойчивые 5-3, мм</th>\n",
       "    </tr>\n",
       "    <tr>\n",
       "      <th>Тип обработки</th>\n",
       "      <th></th>\n",
       "      <th></th>\n",
       "      <th></th>\n",
       "      <th></th>\n",
       "      <th></th>\n",
       "      <th></th>\n",
       "      <th></th>\n",
       "    </tr>\n",
       "  </thead>\n",
       "  <tbody>\n",
       "    <tr>\n",
       "      <th>ПП</th>\n",
       "      <td>0.054045</td>\n",
       "      <td>0.081881</td>\n",
       "      <td>0.43421</td>\n",
       "      <td>1.108882</td>\n",
       "      <td>0.862926</td>\n",
       "      <td>0.306476</td>\n",
       "      <td>0.288405</td>\n",
       "    </tr>\n",
       "    <tr>\n",
       "      <th>ТТ</th>\n",
       "      <td>0.074064</td>\n",
       "      <td>0.040759</td>\n",
       "      <td>0.90335</td>\n",
       "      <td>0.978510</td>\n",
       "      <td>0.375665</td>\n",
       "      <td>0.223905</td>\n",
       "      <td>0.057123</td>\n",
       "    </tr>\n",
       "  </tbody>\n",
       "</table>\n",
       "</div>"
      ],
      "text/plain": [
       "               Содержание 0,25–10 мм, %  \\\n",
       "Тип обработки                             \n",
       "ПП                             0.054045   \n",
       "ТТ                             0.074064   \n",
       "\n",
       "               Содержание 0.25–10 мм(водоустойчивые), %   СВД, мм  \\\n",
       "Тип обработки                                                       \n",
       "ПП                                              0.081881  0.43421   \n",
       "ТТ                                              0.040759  0.90335   \n",
       "\n",
       "               СВД водоустойчивые >10, мм  СВД водоустойчивые 10-7, мм  \\\n",
       "Тип обработки                                                            \n",
       "ПП                               1.108882                     0.862926   \n",
       "ТТ                               0.978510                     0.375665   \n",
       "\n",
       "               СВД водоустойчивые 7-5, мм  СВД водоустойчивые 5-3, мм  \n",
       "Тип обработки                                                          \n",
       "ПП                               0.306476                    0.288405  \n",
       "ТТ                               0.223905                    0.057123  "
      ]
     },
     "execution_count": 19,
     "metadata": {},
     "output_type": "execute_result"
    }
   ],
   "source": [
    "агрофизика_для_статьи.groupby(['Тип обработки']).std()"
   ]
  },
  {
   "cell_type": "code",
   "execution_count": 20,
   "metadata": {},
   "outputs": [
    {
     "data": {
      "text/html": [
       "<div>\n",
       "<style scoped>\n",
       "    .dataframe tbody tr th:only-of-type {\n",
       "        vertical-align: middle;\n",
       "    }\n",
       "\n",
       "    .dataframe tbody tr th {\n",
       "        vertical-align: top;\n",
       "    }\n",
       "\n",
       "    .dataframe thead th {\n",
       "        text-align: right;\n",
       "    }\n",
       "</style>\n",
       "<table border=\"1\" class=\"dataframe\">\n",
       "  <thead>\n",
       "    <tr style=\"text-align: right;\">\n",
       "      <th></th>\n",
       "      <th>Содержание 0,25–10 мм, %</th>\n",
       "      <th>Содержание 0.25–10 мм(водоустойчивые), %</th>\n",
       "      <th>СВД, мм</th>\n",
       "      <th>СВД водоустойчивые &gt;10, мм</th>\n",
       "      <th>СВД водоустойчивые 10-7, мм</th>\n",
       "      <th>СВД водоустойчивые 7-5, мм</th>\n",
       "      <th>СВД водоустойчивые 5-3, мм</th>\n",
       "    </tr>\n",
       "    <tr>\n",
       "      <th>Тип обработки</th>\n",
       "      <th></th>\n",
       "      <th></th>\n",
       "      <th></th>\n",
       "      <th></th>\n",
       "      <th></th>\n",
       "      <th></th>\n",
       "      <th></th>\n",
       "    </tr>\n",
       "  </thead>\n",
       "  <tbody>\n",
       "    <tr>\n",
       "      <th>ПП</th>\n",
       "      <td>13.550116</td>\n",
       "      <td>12.374654</td>\n",
       "      <td>4.768305</td>\n",
       "      <td>21.128246</td>\n",
       "      <td>24.502042</td>\n",
       "      <td>14.794791</td>\n",
       "      <td>22.204824</td>\n",
       "    </tr>\n",
       "    <tr>\n",
       "      <th>ТТ</th>\n",
       "      <td>16.376768</td>\n",
       "      <td>6.396511</td>\n",
       "      <td>11.203631</td>\n",
       "      <td>35.472524</td>\n",
       "      <td>21.531312</td>\n",
       "      <td>18.207677</td>\n",
       "      <td>6.298842</td>\n",
       "    </tr>\n",
       "  </tbody>\n",
       "</table>\n",
       "</div>"
      ],
      "text/plain": [
       "               Содержание 0,25–10 мм, %  \\\n",
       "Тип обработки                             \n",
       "ПП                            13.550116   \n",
       "ТТ                            16.376768   \n",
       "\n",
       "               Содержание 0.25–10 мм(водоустойчивые), %     СВД, мм  \\\n",
       "Тип обработки                                                         \n",
       "ПП                                             12.374654   4.768305   \n",
       "ТТ                                              6.396511  11.203631   \n",
       "\n",
       "               СВД водоустойчивые >10, мм  СВД водоустойчивые 10-7, мм  \\\n",
       "Тип обработки                                                            \n",
       "ПП                              21.128246                    24.502042   \n",
       "ТТ                              35.472524                    21.531312   \n",
       "\n",
       "               СВД водоустойчивые 7-5, мм  СВД водоустойчивые 5-3, мм  \n",
       "Тип обработки                                                          \n",
       "ПП                              14.794791                   22.204824  \n",
       "ТТ                              18.207677                    6.298842  "
      ]
     },
     "execution_count": 20,
     "metadata": {},
     "output_type": "execute_result"
    }
   ],
   "source": [
    "агрофизика_для_статьи.groupby(['Тип обработки']).std() / агрофизика_для_статьи.groupby(['Тип обработки']).mean() * 100"
   ]
  },
  {
   "cell_type": "code",
   "execution_count": 21,
   "metadata": {},
   "outputs": [
    {
     "data": {
      "text/plain": [
       "<matplotlib.legend.Legend at 0x1cbc1b8cee0>"
      ]
     },
     "execution_count": 21,
     "metadata": {},
     "output_type": "execute_result"
    },
    {
     "data": {
      "image/png": "[encoded data removed]",
      "text/plain": [
       "<Figure size 648x540 with 4 Axes>"
      ]
     },
     "metadata": {
      "needs_background": "light"
     },
     "output_type": "display_data"
    }
   ],
   "source": [
    "fig, ax  = plt.subplots(2,2, figsize = (9,7.5))\n",
    "sns.pointplot(\n",
    "    data = агрофизика_для_статьи,\n",
    "    x = 'Тип обработки',\n",
    "    y = \"Содержание 0,25–10 мм, %\", \n",
    "    hue = 'Тип обработки', \n",
    "    palette = \"prism\",\n",
    "    scale = 1.2,\n",
    "    ci = 95,\n",
    "    dodge= 0.5,\n",
    "    join = False,\n",
    "    capsize = .05,\n",
    "    ax = ax[0,0])\n",
    "ax[0,0].set_xlabel('')\n",
    "ax[0,0].set_ylabel(\"Содержание 0.25–10 мм, % (ВC)\")\n",
    "ax[0,0].legend(bbox_to_anchor=(-0.1, -1.4), loc=2, borderaxespad=0., title = 'Тип обработки')\n",
    "\n",
    "sns.pointplot(\n",
    "    data = агрофизика_для_статьи,\n",
    "    x = 'Тип обработки',\n",
    "    y = \"Содержание 0.25–10 мм(водоустойчивые), % \", \n",
    "    hue = 'Тип обработки', \n",
    "    palette = \"prism\",\n",
    "    scale = 1.2,\n",
    "    ci = 95,\n",
    "    dodge= 0.5,\n",
    "    join = False,\n",
    "    capsize = .05,\n",
    "    ax = ax[0,1])\n",
    "ax[0,1].set_xlabel('')\n",
    "ax[0,1].set_ylabel(\"Содержание 0.25–10 мм, % (ВП)\")\n",
    "ax[0,1].legend([],[])\n",
    "\n",
    "sns.pointplot(\n",
    "    data = агрофизика_для_статьи,\n",
    "    x = 'Тип обработки',\n",
    "    y = \"СВД, мм\", \n",
    "    hue = 'Тип обработки', \n",
    "    palette = \"prism\",\n",
    "    scale = 1.2,\n",
    "    ci = 95,\n",
    "    dodge= 0.5,\n",
    "    join = False,\n",
    "    capsize = .05,\n",
    "    ax = ax[1,0])\n",
    "ax[1,0].set_xlabel('')\n",
    "ax[1,0].set_ylabel(\"СВД, мм (ВC)\")\n",
    "ax[1,0].legend([],[])\n",
    "\n",
    "sns.pointplot(\n",
    "    data = SVD_by_agregates,\n",
    "    x = \"Агрегаты, мм\",\n",
    "    y = \"Размер, мм\",\n",
    "    hue = \"Тип обработки\",\n",
    "    palette = \"prism\",\n",
    "    scale = 1.2,\n",
    "    dodge = 0.5,\n",
    "    ci = 95,\n",
    "    join = False,\n",
    "    capsize = .05,\n",
    "    ax = ax[1,1])\n",
    "ax[1,1].set_xlabel('фракция, мм')\n",
    "ax[1,1].set_ylabel(\"СВД, мм (ВП)\")\n",
    "ax[1,1].legend([],[])\n"
   ]
  },
  {
   "cell_type": "code",
   "execution_count": 22,
   "metadata": {},
   "outputs": [],
   "source": [
    "def aov(column):\n",
    "    F = ANOVA(агрофизика_для_статьи[column][агрофизика_для_статьи['Тип обработки'] == 'ПП'],\n",
    "    агрофизика_для_статьи[column][агрофизика_для_статьи['Тип обработки'] != 'ПП'] )[1]\n",
    "    return \"p-value - {}\".format(round(F,3))"
   ]
  },
  {
   "cell_type": "code",
   "execution_count": 23,
   "metadata": {},
   "outputs": [
    {
     "data": {
      "text/plain": [
       "'p-value - 0.129'"
      ]
     },
     "execution_count": 23,
     "metadata": {},
     "output_type": "execute_result"
    }
   ],
   "source": [
    "aov(\"Содержание 0,25–10 мм, %\")"
   ]
  },
  {
   "cell_type": "code",
   "execution_count": 24,
   "metadata": {},
   "outputs": [
    {
     "data": {
      "text/plain": [
       "'p-value - 0.513'"
      ]
     },
     "execution_count": 24,
     "metadata": {},
     "output_type": "execute_result"
    }
   ],
   "source": [
    "aov(\"Содержание 0.25–10 мм(водоустойчивые), % \")"
   ]
  },
  {
   "cell_type": "code",
   "execution_count": 25,
   "metadata": {},
   "outputs": [
    {
     "data": {
      "text/plain": [
       "'p-value - 0.01'"
      ]
     },
     "execution_count": 25,
     "metadata": {},
     "output_type": "execute_result"
    }
   ],
   "source": [
    "aov(\"СВД, мм\")"
   ]
  },
  {
   "cell_type": "code",
   "execution_count": 26,
   "metadata": {},
   "outputs": [
    {
     "data": {
      "text/plain": [
       "'p-value - 0.001'"
      ]
     },
     "execution_count": 26,
     "metadata": {},
     "output_type": "execute_result"
    }
   ],
   "source": [
    "aov(\"СВД водоустойчивые >10, мм\")"
   ]
  },
  {
   "cell_type": "code",
   "execution_count": 27,
   "metadata": {},
   "outputs": [
    {
     "data": {
      "text/plain": [
       "'p-value - 0.0'"
      ]
     },
     "execution_count": 27,
     "metadata": {},
     "output_type": "execute_result"
    }
   ],
   "source": [
    "aov(\"СВД водоустойчивые 10-7, мм\")"
   ]
  },
  {
   "cell_type": "code",
   "execution_count": 28,
   "metadata": {},
   "outputs": [
    {
     "data": {
      "text/plain": [
       "'p-value - 0.0'"
      ]
     },
     "execution_count": 28,
     "metadata": {},
     "output_type": "execute_result"
    }
   ],
   "source": [
    "aov(\"СВД водоустойчивые 7-5, мм\")"
   ]
  },
  {
   "cell_type": "code",
   "execution_count": 29,
   "metadata": {},
   "outputs": [
    {
     "data": {
      "text/plain": [
       "'p-value - 0.006'"
      ]
     },
     "execution_count": 29,
     "metadata": {},
     "output_type": "execute_result"
    }
   ],
   "source": [
    "aov(\"СВД водоустойчивые 5-3, мм\")"
   ]
  }
 ],
 "metadata": {
  "interpreter": {
   "hash": "b89bca176b7fb3d66d1bb561d6494686787f1b6457ca7f46204fc3aa21597833"
  },
  "kernelspec": {
   "display_name": "Python 3.8.8 ('GIS38')",
   "language": "python",
   "name": "python3"
  },
  "language_info": {
   "codemirror_mode": {
    "name": "ipython",
    "version": 3
   },
   "file_extension": ".py",
   "mimetype": "text/x-python",
   "name": "python",
   "nbconvert_exporter": "python",
   "pygments_lexer": "ipython3",
   "version": "3.8.8"
  },
  "orig_nbformat": 4
 },
 "nbformat": 4,
 "nbformat_minor": 2
}
