{
 "cells": [
  {
   "cell_type": "code",
   "execution_count": 12,
   "metadata": {},
   "outputs": [],
   "source": [
    "import pandas as pd \n",
    "import numpy as np\n",
    "import matplotlib.pyplot as plt\n",
    "import seaborn as sns\n",
    "import rasterio\n",
    "from rasterio.mask import mask\n",
    "import geopandas as gpd\n",
    "import warnings\n",
    "warnings.filterwarnings('ignore')"
   ]
  },
  {
   "cell_type": "code",
   "execution_count": 13,
   "metadata": {},
   "outputs": [
    {
     "data": {
      "text/html": [
       "<div>\n",
       "<style scoped>\n",
       "    .dataframe tbody tr th:only-of-type {\n",
       "        vertical-align: middle;\n",
       "    }\n",
       "\n",
       "    .dataframe tbody tr th {\n",
       "        vertical-align: top;\n",
       "    }\n",
       "\n",
       "    .dataframe thead tr th {\n",
       "        text-align: left;\n",
       "    }\n",
       "\n",
       "    .dataframe thead tr:last-of-type th {\n",
       "        text-align: right;\n",
       "    }\n",
       "</style>\n",
       "<table border=\"1\" class=\"dataframe\">\n",
       "  <thead>\n",
       "    <tr>\n",
       "      <th></th>\n",
       "      <th colspan=\"8\" halign=\"left\">2019</th>\n",
       "      <th colspan=\"5\" halign=\"left\">2020</th>\n",
       "      <th colspan=\"8\" halign=\"left\">2021</th>\n",
       "    </tr>\n",
       "    <tr>\n",
       "      <th></th>\n",
       "      <th>count</th>\n",
       "      <th>mean</th>\n",
       "      <th>std</th>\n",
       "      <th>min</th>\n",
       "      <th>25%</th>\n",
       "      <th>50%</th>\n",
       "      <th>75%</th>\n",
       "      <th>max</th>\n",
       "      <th>count</th>\n",
       "      <th>mean</th>\n",
       "      <th>...</th>\n",
       "      <th>75%</th>\n",
       "      <th>max</th>\n",
       "      <th>count</th>\n",
       "      <th>mean</th>\n",
       "      <th>std</th>\n",
       "      <th>min</th>\n",
       "      <th>25%</th>\n",
       "      <th>50%</th>\n",
       "      <th>75%</th>\n",
       "      <th>max</th>\n",
       "    </tr>\n",
       "    <tr>\n",
       "      <th>type</th>\n",
       "      <th></th>\n",
       "      <th></th>\n",
       "      <th></th>\n",
       "      <th></th>\n",
       "      <th></th>\n",
       "      <th></th>\n",
       "      <th></th>\n",
       "      <th></th>\n",
       "      <th></th>\n",
       "      <th></th>\n",
       "      <th></th>\n",
       "      <th></th>\n",
       "      <th></th>\n",
       "      <th></th>\n",
       "      <th></th>\n",
       "      <th></th>\n",
       "      <th></th>\n",
       "      <th></th>\n",
       "      <th></th>\n",
       "      <th></th>\n",
       "      <th></th>\n",
       "    </tr>\n",
       "  </thead>\n",
       "  <tbody>\n",
       "    <tr>\n",
       "      <th>ПП</th>\n",
       "      <td>480143.0</td>\n",
       "      <td>0.050525</td>\n",
       "      <td>0.034566</td>\n",
       "      <td>-0.363985</td>\n",
       "      <td>0.024732</td>\n",
       "      <td>0.036040</td>\n",
       "      <td>0.071505</td>\n",
       "      <td>0.212312</td>\n",
       "      <td>480143.0</td>\n",
       "      <td>0.030870</td>\n",
       "      <td>...</td>\n",
       "      <td>0.048857</td>\n",
       "      <td>0.120363</td>\n",
       "      <td>480143.0</td>\n",
       "      <td>0.049555</td>\n",
       "      <td>0.046380</td>\n",
       "      <td>-0.187553</td>\n",
       "      <td>0.012630</td>\n",
       "      <td>0.028860</td>\n",
       "      <td>0.089940</td>\n",
       "      <td>0.279701</td>\n",
       "    </tr>\n",
       "    <tr>\n",
       "      <th>ТТ</th>\n",
       "      <td>222044.0</td>\n",
       "      <td>0.022281</td>\n",
       "      <td>0.026995</td>\n",
       "      <td>-0.214685</td>\n",
       "      <td>0.003175</td>\n",
       "      <td>0.018021</td>\n",
       "      <td>0.028950</td>\n",
       "      <td>0.227761</td>\n",
       "      <td>222044.0</td>\n",
       "      <td>0.010802</td>\n",
       "      <td>...</td>\n",
       "      <td>0.021959</td>\n",
       "      <td>0.128853</td>\n",
       "      <td>222044.0</td>\n",
       "      <td>0.032052</td>\n",
       "      <td>0.034072</td>\n",
       "      <td>-0.126533</td>\n",
       "      <td>0.007222</td>\n",
       "      <td>0.015969</td>\n",
       "      <td>0.061475</td>\n",
       "      <td>0.193939</td>\n",
       "    </tr>\n",
       "  </tbody>\n",
       "</table>\n",
       "<p>2 rows × 24 columns</p>\n",
       "</div>"
      ],
      "text/plain": [
       "          2019                                                              \\\n",
       "         count      mean       std       min       25%       50%       75%   \n",
       "type                                                                         \n",
       "ПП    480143.0  0.050525  0.034566 -0.363985  0.024732  0.036040  0.071505   \n",
       "ТТ    222044.0  0.022281  0.026995 -0.214685  0.003175  0.018021  0.028950   \n",
       "\n",
       "                    2020            ...                          2021  \\\n",
       "           max     count      mean  ...       75%       max     count   \n",
       "type                                ...                                 \n",
       "ПП    0.212312  480143.0  0.030870  ...  0.048857  0.120363  480143.0   \n",
       "ТТ    0.227761  222044.0  0.010802  ...  0.021959  0.128853  222044.0   \n",
       "\n",
       "                                                                            \n",
       "          mean       std       min       25%       50%       75%       max  \n",
       "type                                                                        \n",
       "ПП    0.049555  0.046380 -0.187553  0.012630  0.028860  0.089940  0.279701  \n",
       "ТТ    0.032052  0.034072 -0.126533  0.007222  0.015969  0.061475  0.193939  \n",
       "\n",
       "[2 rows x 24 columns]"
      ]
     },
     "execution_count": 13,
     "metadata": {},
     "output_type": "execute_result"
    },
    {
     "data": {
      "image/png": "[encoded data removed]",
      "text/plain": [
       "<Figure size 864x288 with 3 Axes>"
      ]
     },
     "metadata": {
      "needs_background": "light"
     },
     "output_type": "display_data"
    }
   ],
   "source": [
    "archangelskoe = gpd.read_file('vector_data/archangelskoe.geojson')\n",
    "dobrovolnoe = gpd.read_file('vector_data/dobrovolnoe.geojson')\n",
    "agriculture = gpd.read_file('vector_data/agriculture.geojson')\n",
    "\n",
    "with rasterio.open(\"raster_data/minNDTI_3_years.tif\", 'r') as main_raster:\n",
    "    archan, out_transform = mask(main_raster, archangelskoe.geometry, crop=True, nodata= np.nan)\n",
    "    dobrovol, out_transform = mask(main_raster, dobrovolnoe.geometry, crop=True, nodata= np.nan)\n",
    "    out_meta = main_raster.meta\n",
    "\n",
    "No_till_raster_data = archan.reshape(3,-1).T\n",
    "traditional_raster_data = dobrovol.reshape(3,-1).T\n",
    "\n",
    "No_till_raster_data[No_till_raster_data == -10] = np.nan\n",
    "No_till_raster_data[No_till_raster_data == 0] = np.nan\n",
    "No_till_raster_data = No_till_raster_data[~np.isnan(No_till_raster_data).any(axis=1)]\n",
    "No_till_df = pd.DataFrame(No_till_raster_data, columns=['2019','2020','2021'])\n",
    "No_till_df['type'] = \"ПП\"\n",
    "\n",
    "\n",
    "\n",
    "traditional_raster_data[traditional_raster_data == -10] = np.nan\n",
    "traditional_raster_data[traditional_raster_data == 0] = np.nan\n",
    "traditional_raster_data = traditional_raster_data[~np.isnan(traditional_raster_data).any(axis=1)]\n",
    "traditional_df = pd.DataFrame(traditional_raster_data, columns=['2019','2020','2021'])\n",
    "traditional_df['type'] = \"ТТ\"\n",
    "\n",
    "\n",
    "\n",
    "general_df = No_till_df.append(traditional_df)\n",
    "\n",
    "sample = general_df\n",
    "\n",
    "fig, axes = plt.subplots(1,3, figsize=(12,4)) \n",
    "\n",
    "sns.boxplot(data = sample , x = 'type', y = '2019', ax = axes[0])\n",
    "sns.boxplot(data = sample , x = 'type', y = '2020', ax = axes[1])\n",
    "sns.boxplot(data = sample , x = 'type', y = '2021', ax = axes[2])\n",
    "\n",
    "\n",
    "\n",
    "sample.groupby(['type']).describe()"
   ]
  },
  {
   "cell_type": "markdown",
   "metadata": {},
   "source": [
    "прискорбно, но необходимо чистить данные вручную \n"
   ]
  },
  {
   "cell_type": "code",
   "execution_count": 14,
   "metadata": {},
   "outputs": [],
   "source": [
    "def cut_by_15IQR(data):\n",
    "    first = np.array(data.describe().iloc[4]) # первый квартиль\n",
    "    third  = np.array(data.describe().iloc[6]) # третий квартиль\n",
    "\n",
    "    IQL1_5 = 1.5 *(third - first) # 1.5 межквартильного размаха\n",
    "    top = third + IQL1_5\n",
    "    bottom = first - IQL1_5\n",
    "    df = data.copy()\n",
    "    for i in range(IQL1_5.shape[0]):\n",
    "        df = df[( df.iloc[:,i] <= top[i]) & ( df.iloc[:,i] >= bottom[i]) ]\n",
    "    return(df)\n",
    "\n",
    "No_till_df_cuted = cut_by_15IQR(No_till_df)\n",
    "traditional_df_cuted = cut_by_15IQR(traditional_df)\n",
    "\n",
    "\n",
    "general_df = No_till_df_cuted.append(traditional_df_cuted)\n",
    "\n",
    "\n",
    "sample = general_df.sample(5000)"
   ]
  },
  {
   "cell_type": "code",
   "execution_count": 15,
   "metadata": {},
   "outputs": [
    {
     "data": {
      "text/html": [
       "<div>\n",
       "<style scoped>\n",
       "    .dataframe tbody tr th:only-of-type {\n",
       "        vertical-align: middle;\n",
       "    }\n",
       "\n",
       "    .dataframe tbody tr th {\n",
       "        vertical-align: top;\n",
       "    }\n",
       "\n",
       "    .dataframe thead tr th {\n",
       "        text-align: left;\n",
       "    }\n",
       "\n",
       "    .dataframe thead tr:last-of-type th {\n",
       "        text-align: right;\n",
       "    }\n",
       "</style>\n",
       "<table border=\"1\" class=\"dataframe\">\n",
       "  <thead>\n",
       "    <tr>\n",
       "      <th></th>\n",
       "      <th colspan=\"8\" halign=\"left\">2019</th>\n",
       "      <th colspan=\"5\" halign=\"left\">2020</th>\n",
       "      <th colspan=\"8\" halign=\"left\">2021</th>\n",
       "    </tr>\n",
       "    <tr>\n",
       "      <th></th>\n",
       "      <th>count</th>\n",
       "      <th>mean</th>\n",
       "      <th>std</th>\n",
       "      <th>min</th>\n",
       "      <th>25%</th>\n",
       "      <th>50%</th>\n",
       "      <th>75%</th>\n",
       "      <th>max</th>\n",
       "      <th>count</th>\n",
       "      <th>mean</th>\n",
       "      <th>...</th>\n",
       "      <th>75%</th>\n",
       "      <th>max</th>\n",
       "      <th>count</th>\n",
       "      <th>mean</th>\n",
       "      <th>std</th>\n",
       "      <th>min</th>\n",
       "      <th>25%</th>\n",
       "      <th>50%</th>\n",
       "      <th>75%</th>\n",
       "      <th>max</th>\n",
       "    </tr>\n",
       "    <tr>\n",
       "      <th>type</th>\n",
       "      <th></th>\n",
       "      <th></th>\n",
       "      <th></th>\n",
       "      <th></th>\n",
       "      <th></th>\n",
       "      <th></th>\n",
       "      <th></th>\n",
       "      <th></th>\n",
       "      <th></th>\n",
       "      <th></th>\n",
       "      <th></th>\n",
       "      <th></th>\n",
       "      <th></th>\n",
       "      <th></th>\n",
       "      <th></th>\n",
       "      <th></th>\n",
       "      <th></th>\n",
       "      <th></th>\n",
       "      <th></th>\n",
       "      <th></th>\n",
       "      <th></th>\n",
       "    </tr>\n",
       "  </thead>\n",
       "  <tbody>\n",
       "    <tr>\n",
       "      <th>ПП</th>\n",
       "      <td>3513.0</td>\n",
       "      <td>0.049329</td>\n",
       "      <td>0.033068</td>\n",
       "      <td>-0.002562</td>\n",
       "      <td>0.024662</td>\n",
       "      <td>0.035417</td>\n",
       "      <td>0.068910</td>\n",
       "      <td>0.141654</td>\n",
       "      <td>3513.0</td>\n",
       "      <td>0.030609</td>\n",
       "      <td>...</td>\n",
       "      <td>0.048507</td>\n",
       "      <td>0.110179</td>\n",
       "      <td>3513.0</td>\n",
       "      <td>0.050034</td>\n",
       "      <td>0.046543</td>\n",
       "      <td>-0.084859</td>\n",
       "      <td>0.012838</td>\n",
       "      <td>0.029055</td>\n",
       "      <td>0.091662</td>\n",
       "      <td>0.194056</td>\n",
       "    </tr>\n",
       "    <tr>\n",
       "      <th>ТТ</th>\n",
       "      <td>1487.0</td>\n",
       "      <td>0.015033</td>\n",
       "      <td>0.015644</td>\n",
       "      <td>-0.032984</td>\n",
       "      <td>0.002551</td>\n",
       "      <td>0.014400</td>\n",
       "      <td>0.025041</td>\n",
       "      <td>0.067510</td>\n",
       "      <td>1487.0</td>\n",
       "      <td>0.011479</td>\n",
       "      <td>...</td>\n",
       "      <td>0.022830</td>\n",
       "      <td>0.055883</td>\n",
       "      <td>1487.0</td>\n",
       "      <td>0.030193</td>\n",
       "      <td>0.033212</td>\n",
       "      <td>-0.053640</td>\n",
       "      <td>0.005355</td>\n",
       "      <td>0.014839</td>\n",
       "      <td>0.058509</td>\n",
       "      <td>0.135280</td>\n",
       "    </tr>\n",
       "  </tbody>\n",
       "</table>\n",
       "<p>2 rows × 24 columns</p>\n",
       "</div>"
      ],
      "text/plain": [
       "        2019                                                              \\\n",
       "       count      mean       std       min       25%       50%       75%   \n",
       "type                                                                       \n",
       "ПП    3513.0  0.049329  0.033068 -0.002562  0.024662  0.035417  0.068910   \n",
       "ТТ    1487.0  0.015033  0.015644 -0.032984  0.002551  0.014400  0.025041   \n",
       "\n",
       "                  2020            ...                        2021            \\\n",
       "           max   count      mean  ...       75%       max   count      mean   \n",
       "type                              ...                                         \n",
       "ПП    0.141654  3513.0  0.030609  ...  0.048507  0.110179  3513.0  0.050034   \n",
       "ТТ    0.067510  1487.0  0.011479  ...  0.022830  0.055883  1487.0  0.030193   \n",
       "\n",
       "                                                                  \n",
       "           std       min       25%       50%       75%       max  \n",
       "type                                                              \n",
       "ПП    0.046543 -0.084859  0.012838  0.029055  0.091662  0.194056  \n",
       "ТТ    0.033212 -0.053640  0.005355  0.014839  0.058509  0.135280  \n",
       "\n",
       "[2 rows x 24 columns]"
      ]
     },
     "execution_count": 15,
     "metadata": {},
     "output_type": "execute_result"
    },
    {
     "data": {
      "image/png": "[encoded data removed]",
      "text/plain": [
       "<Figure size 864x288 with 3 Axes>"
      ]
     },
     "metadata": {
      "needs_background": "light"
     },
     "output_type": "display_data"
    }
   ],
   "source": [
    "\n",
    "\n",
    "fig, axes = plt.subplots(1,3, figsize=(12,4)) \n",
    "\n",
    "\n",
    "my_pal = {\"ПП\": \"#38FF02\", \"ТТ\": \"#FF0202\"}\n",
    "\n",
    "\n",
    "sns.boxplot(data = sample , x = 'type', y = '2019',palette = my_pal, ax = axes[0])\n",
    "axes[0].set(title = '2019', xlabel = '',ylabel = '' )\n",
    "\n",
    "\n",
    "sns.boxplot(data = sample , x = 'type', y = '2020',palette = my_pal, ax = axes[1])\n",
    "axes[1].set(title = '2020', xlabel = '',ylabel = '' )\n",
    "\n",
    "\n",
    "sns.boxplot(data = sample , x = 'type', y = '2021',palette = my_pal, ax = axes[2])\n",
    "axes[2].set(title = '2021', xlabel = '',ylabel = '' )\n",
    "\n",
    "\n",
    "\n",
    "sample.groupby(['type']).describe()"
   ]
  },
  {
   "cell_type": "code",
   "execution_count": 21,
   "metadata": {},
   "outputs": [],
   "source": [
    "from sklearn.model_selection import train_test_split\n",
    "from sklearn.metrics import classification_report\n",
    "from sklearn.model_selection import cross_val_score\n",
    "\n",
    "X = sample[['2019','2020','2021']].values\n",
    "y = sample['type'].values.reshape(-1,1)\n",
    "\n",
    "y = y.astype(int)\n",
    "\n",
    "x_train, x_test, y_train, y_test = train_test_split(X , y,test_size = 0.2, random_state=13)"
   ]
  },
  {
   "cell_type": "code",
   "execution_count": 22,
   "metadata": {},
   "outputs": [
    {
     "name": "stdout",
     "output_type": "stream",
     "text": [
      "              precision    recall  f1-score   support\n",
      "\n",
      "           0       0.91      0.07      0.12       298\n",
      "           1       0.72      1.00      0.83       702\n",
      "\n",
      "    accuracy                           0.72      1000\n",
      "   macro avg       0.81      0.53      0.48      1000\n",
      "weighted avg       0.77      0.72      0.62      1000\n",
      "\n"
     ]
    },
    {
     "data": {
      "text/plain": [
       "0.702"
      ]
     },
     "execution_count": 22,
     "metadata": {},
     "output_type": "execute_result"
    }
   ],
   "source": [
    "from sklearn.linear_model import LogisticRegression\n",
    "clf = LogisticRegression().fit(x_train, y_train)\n",
    "predictions = clf.predict(x_test)\n",
    "print(classification_report(y_test, predictions))\n",
    "cross_val_score(clf, x_test, y_test, cv=10).mean()"
   ]
  },
  {
   "cell_type": "code",
   "execution_count": 23,
   "metadata": {},
   "outputs": [
    {
     "name": "stdout",
     "output_type": "stream",
     "text": [
      "              precision    recall  f1-score   support\n",
      "\n",
      "           0       0.89      0.86      0.88       298\n",
      "           1       0.94      0.96      0.95       702\n",
      "\n",
      "    accuracy                           0.93      1000\n",
      "   macro avg       0.92      0.91      0.91      1000\n",
      "weighted avg       0.93      0.93      0.93      1000\n",
      "\n"
     ]
    },
    {
     "data": {
      "text/plain": [
       "0.7162499999999999"
      ]
     },
     "execution_count": 23,
     "metadata": {},
     "output_type": "execute_result"
    }
   ],
   "source": [
    "from sklearn.neighbors import KNeighborsClassifier\n",
    "neigh = KNeighborsClassifier()\n",
    "neigh.fit(x_train, y_train)\n",
    "predictions = neigh.predict(x_test)\n",
    "print(classification_report(y_test, predictions))\n",
    "cross_val_score(clf, x_train, y_train, cv=10).mean()"
   ]
  },
  {
   "cell_type": "code",
   "execution_count": 24,
   "metadata": {},
   "outputs": [
    {
     "name": "stdout",
     "output_type": "stream",
     "text": [
      "              precision    recall  f1-score   support\n",
      "\n",
      "           0       0.81      0.86      0.83       298\n",
      "           1       0.94      0.91      0.92       702\n",
      "\n",
      "    accuracy                           0.90      1000\n",
      "   macro avg       0.87      0.89      0.88      1000\n",
      "weighted avg       0.90      0.90      0.90      1000\n",
      "\n"
     ]
    },
    {
     "data": {
      "text/plain": [
       "0.8942499999999999"
      ]
     },
     "execution_count": 24,
     "metadata": {},
     "output_type": "execute_result"
    }
   ],
   "source": [
    "from sklearn.tree import DecisionTreeClassifier\n",
    "clf = DecisionTreeClassifier(random_state=0)\n",
    "clf.fit(x_train, y_train)\n",
    "predictions = clf.predict(x_test)\n",
    "print(classification_report(y_test, predictions))\n",
    "cross_val_score(clf, x_train, y_train, cv=10).mean()"
   ]
  },
  {
   "cell_type": "code",
   "execution_count": 25,
   "metadata": {},
   "outputs": [
    {
     "name": "stdout",
     "output_type": "stream",
     "text": [
      "              precision    recall  f1-score   support\n",
      "\n",
      "           0       0.90      0.86      0.88       298\n",
      "           1       0.94      0.96      0.95       702\n",
      "\n",
      "    accuracy                           0.93      1000\n",
      "   macro avg       0.92      0.91      0.92      1000\n",
      "weighted avg       0.93      0.93      0.93      1000\n",
      "\n"
     ]
    },
    {
     "data": {
      "text/plain": [
       "0.9285000000000002"
      ]
     },
     "execution_count": 25,
     "metadata": {},
     "output_type": "execute_result"
    }
   ],
   "source": [
    "from sklearn.ensemble import RandomForestClassifier\n",
    "clf = RandomForestClassifier(random_state=0)\n",
    "clf.fit(x_train, y_train)\n",
    "predictions = clf.predict(x_test)\n",
    "print(classification_report(y_test, predictions))\n",
    "cross_val_score(clf, x_train, y_train, cv=10).mean()"
   ]
  },
  {
   "cell_type": "code",
   "execution_count": 26,
   "metadata": {},
   "outputs": [
    {
     "name": "stdout",
     "output_type": "stream",
     "text": [
      "              precision    recall  f1-score   support\n",
      "\n",
      "           0       0.89      0.83      0.86       298\n",
      "           1       0.93      0.96      0.94       702\n",
      "\n",
      "    accuracy                           0.92      1000\n",
      "   macro avg       0.91      0.89      0.90      1000\n",
      "weighted avg       0.92      0.92      0.92      1000\n",
      "\n"
     ]
    },
    {
     "data": {
      "text/plain": [
       "0.92125"
      ]
     },
     "execution_count": 26,
     "metadata": {},
     "output_type": "execute_result"
    }
   ],
   "source": [
    "from sklearn.ensemble import GradientBoostingClassifier\n",
    "clf = GradientBoostingClassifier(random_state=0)\n",
    "clf.fit(x_train, y_train)\n",
    "predictions = clf.predict(x_test)\n",
    "print(classification_report(y_test, predictions))\n",
    "cross_val_score(clf, x_train, y_train, cv=10).mean()"
   ]
  },
  {
   "cell_type": "markdown",
   "metadata": {},
   "source": [
    "# самый лучший рендом форест "
   ]
  },
  {
   "cell_type": "code",
   "execution_count": 27,
   "metadata": {},
   "outputs": [],
   "source": [
    "RFC = RandomForestClassifier(random_state=0)\n",
    "RFC.fit(x_train, y_train)\n",
    "\n",
    "def mapping(raster, vector):\n",
    "    meta_data = raster.meta\n",
    "    CRS = raster.crs\n",
    "    meta_data['count'] = 1\n",
    "    meta_data['dtype'] = 'float64'\n",
    "\n",
    "    dir = 'raster_data/classified.tif'\n",
    "\n",
    "    raster_shape = raster.shape\n",
    "    data = raster.read().reshape(3,-1).T\n",
    "\n",
    "    data = np.nan_to_num(data, copy=True, nan=0.0, posinf=None, neginf=None)\n",
    "\n",
    "    proba_data = RFC.predict_proba(data)[:,1]\n",
    "    proba_data = proba_data.reshape(raster_shape)\n",
    "    new_dataset = rasterio.open(dir, 'w', **meta_data)\n",
    "    new_dataset.write(proba_data, 1)\n",
    "    new_dataset.close()\n",
    "\n",
    "    vector_reproj = vector.to_crs(CRS)\n",
    "\n",
    "    classified_data = rasterio.open(dir, 'r')\n",
    "\n",
    "\n",
    "    masked_raster, affine__ = mask(classified_data ,vector_reproj.geometry, invert= False)\n",
    "    new_dataset = rasterio.open(dir, 'w', **meta_data)\n",
    "    new_dataset.write(masked_raster)\n",
    "    new_dataset.close()\n"
   ]
  },
  {
   "cell_type": "code",
   "execution_count": 28,
   "metadata": {},
   "outputs": [],
   "source": [
    "main_raster = rasterio.open(\"raster_data/minNDTI_3_years.tif\", 'r') \n",
    "mapping(main_raster, agriculture )"
   ]
  },
  {
   "cell_type": "code",
   "execution_count": 29,
   "metadata": {},
   "outputs": [],
   "source": [
    "# оставляем так, это уже повеселее выглядит"
   ]
  },
  {
   "cell_type": "code",
   "execution_count": null,
   "metadata": {},
   "outputs": [],
   "source": []
  }
 ],
 "metadata": {
  "kernelspec": {
   "display_name": "Python 3.6.13 ('GIS3.6')",
   "language": "python",
   "name": "python3"
  },
  "language_info": {
   "codemirror_mode": {
    "name": "ipython",
    "version": 3
   },
   "file_extension": ".py",
   "mimetype": "text/x-python",
   "name": "python",
   "nbconvert_exporter": "python",
   "pygments_lexer": "ipython3",
   "version": "3.6.13 |Anaconda, Inc.| (default, Mar 16 2021, 11:37:27) [MSC v.1916 64 bit (AMD64)]"
  },
  "orig_nbformat": 4,
  "vscode": {
   "interpreter": {
    "hash": "f1988da908c65e8d85ae416ebc0fdf9f632b165172a42d336a19d8f665d41a07"
   }
  }
 },
 "nbformat": 4,
 "nbformat_minor": 2
}
