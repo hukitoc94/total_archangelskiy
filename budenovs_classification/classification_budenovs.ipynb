{
 "cells": [
  {
   "cell_type": "code",
   "execution_count": 1,
   "metadata": {},
   "outputs": [],
   "source": [
    "import pandas as pd \n",
    "import numpy as np\n",
    "import matplotlib.pyplot as plt\n",
    "import seaborn as sns\n",
    "import rasterio\n",
    "from rasterio.mask import mask\n",
    "import geopandas as gpd\n",
    "import warnings\n",
    "warnings.filterwarnings('ignore')"
   ]
  },
  {
   "cell_type": "code",
   "execution_count": 2,
   "metadata": {},
   "outputs": [
    {
     "data": {
      "text/html": [
       "<div>\n",
       "<style scoped>\n",
       "    .dataframe tbody tr th:only-of-type {\n",
       "        vertical-align: middle;\n",
       "    }\n",
       "\n",
       "    .dataframe tbody tr th {\n",
       "        vertical-align: top;\n",
       "    }\n",
       "\n",
       "    .dataframe thead tr th {\n",
       "        text-align: left;\n",
       "    }\n",
       "\n",
       "    .dataframe thead tr:last-of-type th {\n",
       "        text-align: right;\n",
       "    }\n",
       "</style>\n",
       "<table border=\"1\" class=\"dataframe\">\n",
       "  <thead>\n",
       "    <tr>\n",
       "      <th></th>\n",
       "      <th colspan=\"8\" halign=\"left\">2019</th>\n",
       "      <th colspan=\"5\" halign=\"left\">2020</th>\n",
       "      <th colspan=\"8\" halign=\"left\">2021</th>\n",
       "    </tr>\n",
       "    <tr>\n",
       "      <th></th>\n",
       "      <th>count</th>\n",
       "      <th>mean</th>\n",
       "      <th>std</th>\n",
       "      <th>min</th>\n",
       "      <th>25%</th>\n",
       "      <th>50%</th>\n",
       "      <th>75%</th>\n",
       "      <th>max</th>\n",
       "      <th>count</th>\n",
       "      <th>mean</th>\n",
       "      <th>...</th>\n",
       "      <th>75%</th>\n",
       "      <th>max</th>\n",
       "      <th>count</th>\n",
       "      <th>mean</th>\n",
       "      <th>std</th>\n",
       "      <th>min</th>\n",
       "      <th>25%</th>\n",
       "      <th>50%</th>\n",
       "      <th>75%</th>\n",
       "      <th>max</th>\n",
       "    </tr>\n",
       "    <tr>\n",
       "      <th>type</th>\n",
       "      <th></th>\n",
       "      <th></th>\n",
       "      <th></th>\n",
       "      <th></th>\n",
       "      <th></th>\n",
       "      <th></th>\n",
       "      <th></th>\n",
       "      <th></th>\n",
       "      <th></th>\n",
       "      <th></th>\n",
       "      <th></th>\n",
       "      <th></th>\n",
       "      <th></th>\n",
       "      <th></th>\n",
       "      <th></th>\n",
       "      <th></th>\n",
       "      <th></th>\n",
       "      <th></th>\n",
       "      <th></th>\n",
       "      <th></th>\n",
       "      <th></th>\n",
       "    </tr>\n",
       "  </thead>\n",
       "  <tbody>\n",
       "    <tr>\n",
       "      <th>ПП</th>\n",
       "      <td>993852.0</td>\n",
       "      <td>0.046847</td>\n",
       "      <td>0.032400</td>\n",
       "      <td>0.000000</td>\n",
       "      <td>0.023278</td>\n",
       "      <td>0.034906</td>\n",
       "      <td>0.065542</td>\n",
       "      <td>0.397476</td>\n",
       "      <td>993852.0</td>\n",
       "      <td>0.032920</td>\n",
       "      <td>...</td>\n",
       "      <td>0.050842</td>\n",
       "      <td>0.115568</td>\n",
       "      <td>993852.0</td>\n",
       "      <td>0.028993</td>\n",
       "      <td>0.022057</td>\n",
       "      <td>0.000000</td>\n",
       "      <td>0.012658</td>\n",
       "      <td>0.024063</td>\n",
       "      <td>0.041023</td>\n",
       "      <td>0.205782</td>\n",
       "    </tr>\n",
       "    <tr>\n",
       "      <th>ТТ</th>\n",
       "      <td>648453.0</td>\n",
       "      <td>0.012086</td>\n",
       "      <td>0.040881</td>\n",
       "      <td>-0.602278</td>\n",
       "      <td>0.000171</td>\n",
       "      <td>0.013024</td>\n",
       "      <td>0.025730</td>\n",
       "      <td>0.429131</td>\n",
       "      <td>648453.0</td>\n",
       "      <td>0.008575</td>\n",
       "      <td>...</td>\n",
       "      <td>0.020356</td>\n",
       "      <td>0.140210</td>\n",
       "      <td>648453.0</td>\n",
       "      <td>0.019538</td>\n",
       "      <td>0.025661</td>\n",
       "      <td>-0.385017</td>\n",
       "      <td>0.002746</td>\n",
       "      <td>0.012579</td>\n",
       "      <td>0.038769</td>\n",
       "      <td>0.193013</td>\n",
       "    </tr>\n",
       "  </tbody>\n",
       "</table>\n",
       "<p>2 rows × 24 columns</p>\n",
       "</div>"
      ],
      "text/plain": [
       "          2019                                                              \\\n",
       "         count      mean       std       min       25%       50%       75%   \n",
       "type                                                                         \n",
       "ПП    993852.0  0.046847  0.032400  0.000000  0.023278  0.034906  0.065542   \n",
       "ТТ    648453.0  0.012086  0.040881 -0.602278  0.000171  0.013024  0.025730   \n",
       "\n",
       "                    2020            ...                          2021  \\\n",
       "           max     count      mean  ...       75%       max     count   \n",
       "type                                ...                                 \n",
       "ПП    0.397476  993852.0  0.032920  ...  0.050842  0.115568  993852.0   \n",
       "ТТ    0.429131  648453.0  0.008575  ...  0.020356  0.140210  648453.0   \n",
       "\n",
       "                                                                            \n",
       "          mean       std       min       25%       50%       75%       max  \n",
       "type                                                                        \n",
       "ПП    0.028993  0.022057  0.000000  0.012658  0.024063  0.041023  0.205782  \n",
       "ТТ    0.019538  0.025661 -0.385017  0.002746  0.012579  0.038769  0.193013  \n",
       "\n",
       "[2 rows x 24 columns]"
      ]
     },
     "execution_count": 2,
     "metadata": {},
     "output_type": "execute_result"
    },
    {
     "data": {
      "image/png": "[encoded data removed]",
      "text/plain": [
       "<Figure size 1200x400 with 3 Axes>"
      ]
     },
     "metadata": {},
     "output_type": "display_data"
    }
   ],
   "source": [
    "archangelskoe = gpd.read_file('vector_data/archangelskoe.geojson')\n",
    "archangelskoe = archangelskoe.to_crs(\"EPSG:32638\")\n",
    "dobrovolnoe = gpd.read_file('vector_data/dobrovolnoe.geojson')\n",
    "dobrovolnoe = dobrovolnoe.to_crs(\"EPSG:32638\")\n",
    "\n",
    "\n",
    "with rasterio.open(\"raster_data/RGB_minNDTI.tif\", 'r') as main_raster:\n",
    "    archan, out_transform = mask(main_raster, archangelskoe.geometry, crop=True, nodata= np.nan)\n",
    "    dobrovol, out_transform = mask(main_raster, dobrovolnoe.geometry, crop=True, nodata= np.nan)\n",
    "    out_meta = main_raster.meta\n",
    "\n",
    "\n",
    "No_till_raster_data = archan.reshape(3,-1).T\n",
    "traditional_raster_data = dobrovol.reshape(3,-1).T\n",
    "\n",
    "No_till_raster_data[No_till_raster_data < 0] = np.nan\n",
    "No_till_raster_data = No_till_raster_data[~np.isnan(No_till_raster_data).any(axis=1)]\n",
    "No_till_df = pd.DataFrame(No_till_raster_data, columns=['2019','2020','2021'])\n",
    "No_till_df['type'] = \"ПП\"\n",
    "\n",
    "\n",
    "traditional_raster_data = traditional_raster_data[~np.isnan(traditional_raster_data).any(axis=1)]\n",
    "traditional_df = pd.DataFrame(traditional_raster_data, columns=['2019','2020','2021'])\n",
    "traditional_df['type'] = \"ТТ\"\n",
    "\n",
    "\n",
    "\n",
    "general_df = No_till_df.append(traditional_df)\n",
    "\n",
    "sample = general_df\n",
    "\n",
    "fig, axes = plt.subplots(1,3, figsize=(12,4)) \n",
    "\n",
    "sns.boxplot(data = sample , x = 'type', y = '2019', ax = axes[0])\n",
    "sns.boxplot(data = sample , x = 'type', y = '2020', ax = axes[1])\n",
    "sns.boxplot(data = sample , x = 'type', y = '2021', ax = axes[2])\n",
    "\n",
    "\n",
    "\n",
    "sample.groupby(['type']).describe()"
   ]
  },
  {
   "cell_type": "markdown",
   "metadata": {},
   "source": [
    "прискорбно, но необходимо чистить данные вручную \n"
   ]
  },
  {
   "cell_type": "code",
   "execution_count": 3,
   "metadata": {},
   "outputs": [],
   "source": [
    "def cut_by_15IQR(data):\n",
    "    first = np.array(data.describe().iloc[4]) # первый квартиль\n",
    "    third  = np.array(data.describe().iloc[6]) # третий квартиль\n",
    "\n",
    "    IQL1_5 = 1.5 *(third - first) # 1.5 межквартильного размаха\n",
    "    top = third + IQL1_5\n",
    "    bottom = first - IQL1_5\n",
    "    df = data.copy()\n",
    "    for i in range(IQL1_5.shape[0]):\n",
    "        df = df[( df.iloc[:,i] <= top[i]) & ( df.iloc[:,i] >= bottom[i]) ]\n",
    "    return(df)\n",
    "\n",
    "No_till_df_cuted = cut_by_15IQR(No_till_df).sample(500000) # забалансить классы\n",
    "\n",
    "traditional_df_cuted = cut_by_15IQR(traditional_df).sample(500000)\n",
    "\n",
    "\n",
    "general_df = No_till_df_cuted.append(traditional_df_cuted)\n",
    "\n",
    "\n"
   ]
  },
  {
   "cell_type": "code",
   "execution_count": 4,
   "metadata": {},
   "outputs": [
    {
     "data": {
      "text/html": [
       "<div>\n",
       "<style scoped>\n",
       "    .dataframe tbody tr th:only-of-type {\n",
       "        vertical-align: middle;\n",
       "    }\n",
       "\n",
       "    .dataframe tbody tr th {\n",
       "        vertical-align: top;\n",
       "    }\n",
       "\n",
       "    .dataframe thead tr th {\n",
       "        text-align: left;\n",
       "    }\n",
       "\n",
       "    .dataframe thead tr:last-of-type th {\n",
       "        text-align: right;\n",
       "    }\n",
       "</style>\n",
       "<table border=\"1\" class=\"dataframe\">\n",
       "  <thead>\n",
       "    <tr>\n",
       "      <th></th>\n",
       "      <th colspan=\"8\" halign=\"left\">2019</th>\n",
       "      <th colspan=\"5\" halign=\"left\">2020</th>\n",
       "      <th colspan=\"8\" halign=\"left\">2021</th>\n",
       "    </tr>\n",
       "    <tr>\n",
       "      <th></th>\n",
       "      <th>count</th>\n",
       "      <th>mean</th>\n",
       "      <th>std</th>\n",
       "      <th>min</th>\n",
       "      <th>25%</th>\n",
       "      <th>50%</th>\n",
       "      <th>75%</th>\n",
       "      <th>max</th>\n",
       "      <th>count</th>\n",
       "      <th>mean</th>\n",
       "      <th>...</th>\n",
       "      <th>75%</th>\n",
       "      <th>max</th>\n",
       "      <th>count</th>\n",
       "      <th>mean</th>\n",
       "      <th>std</th>\n",
       "      <th>min</th>\n",
       "      <th>25%</th>\n",
       "      <th>50%</th>\n",
       "      <th>75%</th>\n",
       "      <th>max</th>\n",
       "    </tr>\n",
       "    <tr>\n",
       "      <th>type</th>\n",
       "      <th></th>\n",
       "      <th></th>\n",
       "      <th></th>\n",
       "      <th></th>\n",
       "      <th></th>\n",
       "      <th></th>\n",
       "      <th></th>\n",
       "      <th></th>\n",
       "      <th></th>\n",
       "      <th></th>\n",
       "      <th></th>\n",
       "      <th></th>\n",
       "      <th></th>\n",
       "      <th></th>\n",
       "      <th></th>\n",
       "      <th></th>\n",
       "      <th></th>\n",
       "      <th></th>\n",
       "      <th></th>\n",
       "      <th></th>\n",
       "      <th></th>\n",
       "    </tr>\n",
       "  </thead>\n",
       "  <tbody>\n",
       "    <tr>\n",
       "      <th>ПП</th>\n",
       "      <td>500000.0</td>\n",
       "      <td>0.043884</td>\n",
       "      <td>0.028837</td>\n",
       "      <td>0.000000</td>\n",
       "      <td>0.022914</td>\n",
       "      <td>0.033572</td>\n",
       "      <td>0.060793</td>\n",
       "      <td>0.128935</td>\n",
       "      <td>500000.0</td>\n",
       "      <td>0.033037</td>\n",
       "      <td>...</td>\n",
       "      <td>0.051569</td>\n",
       "      <td>0.107797</td>\n",
       "      <td>500000.0</td>\n",
       "      <td>0.026413</td>\n",
       "      <td>0.018145</td>\n",
       "      <td>0.000000</td>\n",
       "      <td>0.012081</td>\n",
       "      <td>0.022973</td>\n",
       "      <td>0.037981</td>\n",
       "      <td>0.083570</td>\n",
       "    </tr>\n",
       "    <tr>\n",
       "      <th>ТТ</th>\n",
       "      <td>500000.0</td>\n",
       "      <td>0.012306</td>\n",
       "      <td>0.016919</td>\n",
       "      <td>-0.038161</td>\n",
       "      <td>0.000775</td>\n",
       "      <td>0.011276</td>\n",
       "      <td>0.023336</td>\n",
       "      <td>0.064068</td>\n",
       "      <td>500000.0</td>\n",
       "      <td>0.009409</td>\n",
       "      <td>...</td>\n",
       "      <td>0.020905</td>\n",
       "      <td>0.054831</td>\n",
       "      <td>500000.0</td>\n",
       "      <td>0.019128</td>\n",
       "      <td>0.022411</td>\n",
       "      <td>-0.051228</td>\n",
       "      <td>0.002316</td>\n",
       "      <td>0.011655</td>\n",
       "      <td>0.037810</td>\n",
       "      <td>0.092791</td>\n",
       "    </tr>\n",
       "  </tbody>\n",
       "</table>\n",
       "<p>2 rows × 24 columns</p>\n",
       "</div>"
      ],
      "text/plain": [
       "          2019                                                              \\\n",
       "         count      mean       std       min       25%       50%       75%   \n",
       "type                                                                         \n",
       "ПП    500000.0  0.043884  0.028837  0.000000  0.022914  0.033572  0.060793   \n",
       "ТТ    500000.0  0.012306  0.016919 -0.038161  0.000775  0.011276  0.023336   \n",
       "\n",
       "                    2020            ...                          2021  \\\n",
       "           max     count      mean  ...       75%       max     count   \n",
       "type                                ...                                 \n",
       "ПП    0.128935  500000.0  0.033037  ...  0.051569  0.107797  500000.0   \n",
       "ТТ    0.064068  500000.0  0.009409  ...  0.020905  0.054831  500000.0   \n",
       "\n",
       "                                                                            \n",
       "          mean       std       min       25%       50%       75%       max  \n",
       "type                                                                        \n",
       "ПП    0.026413  0.018145  0.000000  0.012081  0.022973  0.037981  0.083570  \n",
       "ТТ    0.019128  0.022411 -0.051228  0.002316  0.011655  0.037810  0.092791  \n",
       "\n",
       "[2 rows x 24 columns]"
      ]
     },
     "execution_count": 4,
     "metadata": {},
     "output_type": "execute_result"
    },
    {
     "data": {
      "image/png": "[encoded data removed]",
      "text/plain": [
       "<Figure size 1200x400 with 3 Axes>"
      ]
     },
     "metadata": {},
     "output_type": "display_data"
    }
   ],
   "source": [
    "\n",
    "\n",
    "fig, axes = plt.subplots(1,3, figsize=(12,4)) \n",
    "\n",
    "\n",
    "my_pal = {\"ПП\": \"#38FF02\", \"ТТ\": \"#FF0202\"}\n",
    "\n",
    "\n",
    "sns.boxplot(data = general_df , x = 'type', y = '2019',palette = my_pal, ax = axes[0])\n",
    "axes[0].set(title = '2019', xlabel = '',ylabel = '' )\n",
    "\n",
    "\n",
    "sns.boxplot(data = general_df , x = 'type', y = '2020',palette = my_pal, ax = axes[1])\n",
    "axes[1].set(title = '2020', xlabel = '',ylabel = '' )\n",
    "\n",
    "\n",
    "sns.boxplot(data = general_df , x = 'type', y = '2021',palette = my_pal, ax = axes[2])\n",
    "axes[2].set(title = '2021', xlabel = '',ylabel = '' )\n",
    "\n",
    "\n",
    "\n",
    "general_df.groupby(['type']).describe()"
   ]
  },
  {
   "cell_type": "code",
   "execution_count": 6,
   "metadata": {},
   "outputs": [],
   "source": [
    "from sklearn.model_selection import train_test_split\n",
    "from sklearn.metrics import classification_report\n",
    "from sklearn.model_selection import cross_val_score\n",
    "\n",
    "\n",
    "general_df = general_df.sample(10000)\n",
    "\n",
    "X = general_df[['2019','2020','2021']].values\n",
    "y = general_df['type'].values.reshape(-1,1)\n",
    "\n",
    "y[y == 'ТТ'] = 0\n",
    "y[y == 'ПП'] = 1\n",
    "\n",
    "\n",
    "y = y.astype(int)\n",
    "\n",
    "x_train, x_test, y_train, y_test = train_test_split(X , y,test_size = 0.2, random_state=13)"
   ]
  },
  {
   "cell_type": "code",
   "execution_count": 6,
   "metadata": {},
   "outputs": [
    {
     "name": "stdout",
     "output_type": "stream",
     "text": [
      "              precision    recall  f1-score   support\n",
      "\n",
      "           0       0.81      0.89      0.85      9936\n",
      "           1       0.88      0.79      0.84     10064\n",
      "\n",
      "    accuracy                           0.84     20000\n",
      "   macro avg       0.85      0.84      0.84     20000\n",
      "weighted avg       0.85      0.84      0.84     20000\n",
      "\n"
     ]
    },
    {
     "data": {
      "text/plain": [
       "0.83905"
      ]
     },
     "execution_count": 6,
     "metadata": {},
     "output_type": "execute_result"
    }
   ],
   "source": [
    "from sklearn.linear_model import LogisticRegression\n",
    "clf = LogisticRegression().fit(x_train, y_train)\n",
    "predictions = clf.predict(x_test)\n",
    "print(classification_report(y_test, predictions))\n",
    "cross_val_score(clf, x_test, y_test, cv=10).mean()"
   ]
  },
  {
   "cell_type": "code",
   "execution_count": 7,
   "metadata": {},
   "outputs": [
    {
     "name": "stdout",
     "output_type": "stream",
     "text": [
      "              precision    recall  f1-score   support\n",
      "\n",
      "           0       0.92      0.90      0.91      9936\n",
      "           1       0.90      0.92      0.91     10064\n",
      "\n",
      "    accuracy                           0.91     20000\n",
      "   macro avg       0.91      0.91      0.91     20000\n",
      "weighted avg       0.91      0.91      0.91     20000\n",
      "\n"
     ]
    },
    {
     "data": {
      "text/plain": [
       "0.8430000000000002"
      ]
     },
     "execution_count": 7,
     "metadata": {},
     "output_type": "execute_result"
    }
   ],
   "source": [
    "from sklearn.neighbors import KNeighborsClassifier\n",
    "neigh = KNeighborsClassifier()\n",
    "neigh.fit(x_train, y_train)\n",
    "predictions = neigh.predict(x_test)\n",
    "print(classification_report(y_test, predictions))\n",
    "cross_val_score(clf, x_train, y_train, cv=10).mean()"
   ]
  },
  {
   "cell_type": "code",
   "execution_count": 8,
   "metadata": {},
   "outputs": [
    {
     "name": "stdout",
     "output_type": "stream",
     "text": [
      "              precision    recall  f1-score   support\n",
      "\n",
      "           0       0.90      0.91      0.90      9936\n",
      "           1       0.91      0.90      0.90     10064\n",
      "\n",
      "    accuracy                           0.90     20000\n",
      "   macro avg       0.90      0.90      0.90     20000\n",
      "weighted avg       0.90      0.90      0.90     20000\n",
      "\n"
     ]
    },
    {
     "data": {
      "text/plain": [
       "0.9005999999999998"
      ]
     },
     "execution_count": 8,
     "metadata": {},
     "output_type": "execute_result"
    }
   ],
   "source": [
    "from sklearn.tree import DecisionTreeClassifier\n",
    "clf = DecisionTreeClassifier(random_state=0)\n",
    "clf.fit(x_train, y_train)\n",
    "predictions = clf.predict(x_test)\n",
    "print(classification_report(y_test, predictions))\n",
    "cross_val_score(clf, x_train, y_train, cv=10).mean()"
   ]
  },
  {
   "cell_type": "code",
   "execution_count": 9,
   "metadata": {},
   "outputs": [
    {
     "name": "stdout",
     "output_type": "stream",
     "text": [
      "              precision    recall  f1-score   support\n",
      "\n",
      "           0       0.94      0.92      0.93      9936\n",
      "           1       0.92      0.94      0.93     10064\n",
      "\n",
      "    accuracy                           0.93     20000\n",
      "   macro avg       0.93      0.93      0.93     20000\n",
      "weighted avg       0.93      0.93      0.93     20000\n",
      "\n"
     ]
    },
    {
     "data": {
      "text/plain": [
       "0.9264750000000002"
      ]
     },
     "execution_count": 9,
     "metadata": {},
     "output_type": "execute_result"
    }
   ],
   "source": [
    "from sklearn.ensemble import RandomForestClassifier\n",
    "clf = RandomForestClassifier(random_state=0)\n",
    "clf.fit(x_train, y_train)\n",
    "predictions = clf.predict(x_test)\n",
    "print(classification_report(y_test, predictions))\n",
    "cross_val_score(clf, x_train, y_train, cv=10).mean()"
   ]
  },
  {
   "cell_type": "code",
   "execution_count": 10,
   "metadata": {},
   "outputs": [
    {
     "name": "stdout",
     "output_type": "stream",
     "text": [
      "              precision    recall  f1-score   support\n",
      "\n",
      "           0       0.94      0.87      0.90      9936\n",
      "           1       0.88      0.95      0.91     10064\n",
      "\n",
      "    accuracy                           0.91     20000\n",
      "   macro avg       0.91      0.91      0.91     20000\n",
      "weighted avg       0.91      0.91      0.91     20000\n",
      "\n"
     ]
    },
    {
     "data": {
      "text/plain": [
       "0.908175"
      ]
     },
     "execution_count": 10,
     "metadata": {},
     "output_type": "execute_result"
    }
   ],
   "source": [
    "from sklearn.ensemble import GradientBoostingClassifier\n",
    "clf = GradientBoostingClassifier(random_state=0)\n",
    "clf.fit(x_train, y_train)\n",
    "predictions = clf.predict(x_test)\n",
    "print(classification_report(y_test, predictions))\n",
    "cross_val_score(clf, x_train, y_train, cv=10).mean()"
   ]
  },
  {
   "cell_type": "markdown",
   "metadata": {},
   "source": [
    "# самый лучший рендом форест "
   ]
  },
  {
   "cell_type": "code",
   "execution_count": 8,
   "metadata": {},
   "outputs": [],
   "source": [
    "from sklearn.ensemble import RandomForestClassifier\n",
    "\n",
    "RFC = RandomForestClassifier(random_state=0)\n",
    "RFC.fit(x_train, y_train)\n",
    "\n",
    "def mapping(raster, vector):\n",
    "    meta_data = raster.meta\n",
    "    CRS = raster.crs\n",
    "    meta_data['count'] = 1\n",
    "    meta_data['dtype'] = 'float64'\n",
    "\n",
    "    dir = 'raster_data/classified.tif'\n",
    "\n",
    "    raster_shape = raster.shape\n",
    "    data = raster.read().reshape(3,-1).T\n",
    "\n",
    "    data = np.nan_to_num(data, copy=True, nan=0.0, posinf=None, neginf=None)\n",
    "\n",
    "    proba_data = RFC.predict_proba(data)[:,1]\n",
    "    proba_data = proba_data.reshape(raster_shape)\n",
    "    new_dataset = rasterio.open(dir, 'w', **meta_data)\n",
    "    new_dataset.write(proba_data, 1)\n",
    "    new_dataset.close()\n",
    "\n",
    "    vector_reproj = vector.to_crs(CRS)\n",
    "\n",
    "    classified_data = rasterio.open(dir, 'r')\n",
    "\n",
    "\n",
    "    masked_raster, affine__ = mask(classified_data ,vector_reproj.geometry, invert= False)\n",
    "    new_dataset = rasterio.open(dir, 'w', **meta_data)\n",
    "    new_dataset.write(masked_raster)\n",
    "    new_dataset.close()\n"
   ]
  },
  {
   "cell_type": "code",
   "execution_count": 9,
   "metadata": {},
   "outputs": [],
   "source": [
    "agriculture = gpd.read_file('vector_data/agriculture.geojson')\n",
    "agriculture = agriculture.to_crs(\"EPSG:32638\")\n",
    "main_raster = rasterio.open(\"raster_data/RGB_minNDTI.tif\", 'r') \n"
   ]
  },
  {
   "cell_type": "code",
   "execution_count": 10,
   "metadata": {},
   "outputs": [],
   "source": [
    "\n",
    "mapping(main_raster, agriculture )"
   ]
  },
  {
   "cell_type": "code",
   "execution_count": null,
   "metadata": {},
   "outputs": [],
   "source": [
    "# оставляем так, это уже повеселее выглядит"
   ]
  },
  {
   "cell_type": "code",
   "execution_count": null,
   "metadata": {},
   "outputs": [],
   "source": []
  }
 ],
 "metadata": {
  "kernelspec": {
   "display_name": "GIS3.6",
   "language": "python",
   "name": "python3"
  },
  "language_info": {
   "codemirror_mode": {
    "name": "ipython",
    "version": 3
   },
   "file_extension": ".py",
   "mimetype": "text/x-python",
   "name": "python",
   "nbconvert_exporter": "python",
   "pygments_lexer": "ipython3",
   "version": "3.6.13"
  },
  "orig_nbformat": 4,
  "vscode": {
   "interpreter": {
    "hash": "f1988da908c65e8d85ae416ebc0fdf9f632b165172a42d336a19d8f665d41a07"
   }
  }
 },
 "nbformat": 4,
 "nbformat_minor": 2
}
